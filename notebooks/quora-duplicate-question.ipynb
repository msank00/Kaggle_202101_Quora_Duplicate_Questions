{
 "cells": [
  {
   "cell_type": "markdown",
   "metadata": {},
   "source": [
    "# Quora Question Pairs\n",
    "\n",
    "_Can you identify question pairs that have the same intent?_\n",
    "\n",
    "\n",
    "\n",
    "- [Kaggle competition link](https://www.kaggle.com/c/quora-question-pairs)\n",
    "- [analytics vidya](https://www.analyticsvidhya.com/blog/2020/01/first-text-classification-in-pytorch/)"
   ]
  },
  {
   "cell_type": "code",
   "execution_count": 4,
   "metadata": {},
   "outputs": [],
   "source": [
    "from sklearn import model_selection"
   ]
  },
  {
   "cell_type": "code",
   "execution_count": 5,
   "metadata": {
    "_cell_guid": "b1076dfc-b9ad-4769-8c92-a6c4dae69d19",
    "_uuid": "8f2839f25d086af736a60e9eeb907d3b93b6e0e5"
   },
   "outputs": [],
   "source": [
    "import numpy as np # linear algebra\n",
    "import pandas as pd # data processing, CSV file I/O (e.g. pd.read_csv)\n",
    "\n",
    "DIR = '/kaggle/input'"
   ]
  },
  {
   "cell_type": "code",
   "execution_count": 7,
   "metadata": {
    "_cell_guid": "79c7e3d0-c299-4dcb-8224-4455121ee9b0",
    "_uuid": "d629ff2d2480ee46fbb7e2d37f6b5fab8052498a"
   },
   "outputs": [
    {
     "name": "stdout",
     "output_type": "stream",
     "text": [
      "Archive:  /kaggle/input/quora-question-pairs/train.csv.zip\n",
      "  inflating: train.csv               \n"
     ]
    }
   ],
   "source": [
    "!unzip /kaggle/input/quora-question-pairs/train.csv.zip"
   ]
  },
  {
   "cell_type": "code",
   "execution_count": 8,
   "metadata": {},
   "outputs": [
    {
     "name": "stdout",
     "output_type": "stream",
     "text": [
      "__notebook_source__.ipynb  train.csv\n"
     ]
    }
   ],
   "source": [
    "!ls"
   ]
  },
  {
   "cell_type": "markdown",
   "metadata": {},
   "source": [
    "# Create Fold for better validation set"
   ]
  },
  {
   "cell_type": "code",
   "execution_count": 9,
   "metadata": {},
   "outputs": [
    {
     "name": "stdout",
     "output_type": "stream",
     "text": [
      "323432 80858\n",
      "323432 80858\n",
      "323432 80858\n",
      "323432 80858\n",
      "323432 80858\n"
     ]
    }
   ],
   "source": [
    "df = pd.read_csv(\"train.csv\")\n",
    "df['kfold'] = -1\n",
    "\n",
    "df = df.sample(frac=1.,random_state=2021).reset_index(drop=True)\n",
    "\n",
    "kf = model_selection.StratifiedKFold(n_splits=5, shuffle=False)\n",
    "\n",
    "for fold, (train_idx, val_idx) in enumerate(kf.split(X=df, y = df.is_duplicate.values)):\n",
    "    print(len(train_idx), len(val_idx))\n",
    "    df.loc[val_idx, 'kfold'] = fold"
   ]
  },
  {
   "cell_type": "code",
   "execution_count": 10,
   "metadata": {},
   "outputs": [],
   "source": [
    "df.dropna(inplace=True)"
   ]
  },
  {
   "cell_type": "code",
   "execution_count": 11,
   "metadata": {},
   "outputs": [
    {
     "data": {
      "text/plain": [
       "(0, 0, 0, 0)"
      ]
     },
     "execution_count": 11,
     "metadata": {},
     "output_type": "execute_result"
    }
   ],
   "source": [
    "df.question1.isna().sum(), df.question2.isna().sum(), df.question1.isnull().sum(), df.question2.isnull().sum()"
   ]
  },
  {
   "cell_type": "code",
   "execution_count": 12,
   "metadata": {},
   "outputs": [],
   "source": [
    "df.to_csv(\"train_folds.csv\", index=False)"
   ]
  },
  {
   "cell_type": "code",
   "execution_count": 13,
   "metadata": {},
   "outputs": [
    {
     "name": "stdout",
     "output_type": "stream",
     "text": [
      "__notebook_source__.ipynb  train.csv  train_folds.csv\n"
     ]
    }
   ],
   "source": [
    "!ls"
   ]
  },
  {
   "cell_type": "code",
   "execution_count": 14,
   "metadata": {},
   "outputs": [],
   "source": [
    "df_fold = pd.read_csv(\"train_folds.csv\")"
   ]
  },
  {
   "cell_type": "code",
   "execution_count": 15,
   "metadata": {},
   "outputs": [],
   "source": [
    "def sent_len(input_str: str):\n",
    "    input_str = str(input_str)\n",
    "    return len(input_str.strip().split(\" \"))"
   ]
  },
  {
   "cell_type": "code",
   "execution_count": 16,
   "metadata": {},
   "outputs": [],
   "source": [
    "df_fold[\"question1_len\"] = list(map(sent_len, df_fold.question1.values.tolist()))"
   ]
  },
  {
   "cell_type": "code",
   "execution_count": 17,
   "metadata": {},
   "outputs": [],
   "source": [
    "df_fold[\"question2_len\"] = list(map(sent_len, df_fold.question2.values.tolist()))"
   ]
  },
  {
   "cell_type": "code",
   "execution_count": 18,
   "metadata": {},
   "outputs": [
    {
     "data": {
      "text/html": [
       "<div>\n",
       "<style scoped>\n",
       "    .dataframe tbody tr th:only-of-type {\n",
       "        vertical-align: middle;\n",
       "    }\n",
       "\n",
       "    .dataframe tbody tr th {\n",
       "        vertical-align: top;\n",
       "    }\n",
       "\n",
       "    .dataframe thead th {\n",
       "        text-align: right;\n",
       "    }\n",
       "</style>\n",
       "<table border=\"1\" class=\"dataframe\">\n",
       "  <thead>\n",
       "    <tr style=\"text-align: right;\">\n",
       "      <th></th>\n",
       "      <th>id</th>\n",
       "      <th>qid1</th>\n",
       "      <th>qid2</th>\n",
       "      <th>question1</th>\n",
       "      <th>question2</th>\n",
       "      <th>is_duplicate</th>\n",
       "      <th>kfold</th>\n",
       "      <th>question1_len</th>\n",
       "      <th>question2_len</th>\n",
       "    </tr>\n",
       "  </thead>\n",
       "  <tbody>\n",
       "    <tr>\n",
       "      <th>0</th>\n",
       "      <td>114488</td>\n",
       "      <td>186875</td>\n",
       "      <td>186876</td>\n",
       "      <td>On Facebook messenger, what does a grey circle...</td>\n",
       "      <td>How do I remove the blue squiggle icon from th...</td>\n",
       "      <td>0</td>\n",
       "      <td>0</td>\n",
       "      <td>12</td>\n",
       "      <td>20</td>\n",
       "    </tr>\n",
       "    <tr>\n",
       "      <th>1</th>\n",
       "      <td>178457</td>\n",
       "      <td>274086</td>\n",
       "      <td>274087</td>\n",
       "      <td>Who decided that 36-24-36 is the perfect figur...</td>\n",
       "      <td>What is it like to be an Indian woman?</td>\n",
       "      <td>0</td>\n",
       "      <td>0</td>\n",
       "      <td>16</td>\n",
       "      <td>9</td>\n",
       "    </tr>\n",
       "    <tr>\n",
       "      <th>2</th>\n",
       "      <td>28495</td>\n",
       "      <td>52834</td>\n",
       "      <td>52835</td>\n",
       "      <td>Who are the A-List actors in Hollywood?</td>\n",
       "      <td>Who is the top actor right now in Hollywood?</td>\n",
       "      <td>0</td>\n",
       "      <td>0</td>\n",
       "      <td>7</td>\n",
       "      <td>9</td>\n",
       "    </tr>\n",
       "    <tr>\n",
       "      <th>3</th>\n",
       "      <td>293815</td>\n",
       "      <td>195024</td>\n",
       "      <td>183896</td>\n",
       "      <td>What are the main imports and exports of Venez...</td>\n",
       "      <td>What are the main imports and exports of Venez...</td>\n",
       "      <td>0</td>\n",
       "      <td>0</td>\n",
       "      <td>17</td>\n",
       "      <td>17</td>\n",
       "    </tr>\n",
       "    <tr>\n",
       "      <th>4</th>\n",
       "      <td>325846</td>\n",
       "      <td>452102</td>\n",
       "      <td>452103</td>\n",
       "      <td>What type of questions are in the airforce ada...</td>\n",
       "      <td>What is a question to test?</td>\n",
       "      <td>0</td>\n",
       "      <td>0</td>\n",
       "      <td>10</td>\n",
       "      <td>6</td>\n",
       "    </tr>\n",
       "  </tbody>\n",
       "</table>\n",
       "</div>"
      ],
      "text/plain": [
       "       id    qid1    qid2                                          question1  \\\n",
       "0  114488  186875  186876  On Facebook messenger, what does a grey circle...   \n",
       "1  178457  274086  274087  Who decided that 36-24-36 is the perfect figur...   \n",
       "2   28495   52834   52835            Who are the A-List actors in Hollywood?   \n",
       "3  293815  195024  183896  What are the main imports and exports of Venez...   \n",
       "4  325846  452102  452103  What type of questions are in the airforce ada...   \n",
       "\n",
       "                                           question2  is_duplicate  kfold  \\\n",
       "0  How do I remove the blue squiggle icon from th...             0      0   \n",
       "1             What is it like to be an Indian woman?             0      0   \n",
       "2       Who is the top actor right now in Hollywood?             0      0   \n",
       "3  What are the main imports and exports of Venez...             0      0   \n",
       "4                        What is a question to test?             0      0   \n",
       "\n",
       "   question1_len  question2_len  \n",
       "0             12             20  \n",
       "1             16              9  \n",
       "2              7              9  \n",
       "3             17             17  \n",
       "4             10              6  "
      ]
     },
     "execution_count": 18,
     "metadata": {},
     "output_type": "execute_result"
    }
   ],
   "source": [
    "df_fold.head()"
   ]
  },
  {
   "cell_type": "markdown",
   "metadata": {},
   "source": [
    "# Question length distribution\n",
    "\n",
    "- Check sentence lengths before applying Sentence embedding of `512` dimension using **Universal Sentence Encoder**"
   ]
  },
  {
   "cell_type": "code",
   "execution_count": 19,
   "metadata": {},
   "outputs": [
    {
     "data": {
      "image/png": "[encoded data removed]",
      "text/plain": [
       "<Figure size 432x288 with 1 Axes>"
      ]
     },
     "metadata": {
      "needs_background": "light"
     },
     "output_type": "display_data"
    }
   ],
   "source": [
    "df_fold.question1_len.plot.hist(bins=20);"
   ]
  },
  {
   "cell_type": "code",
   "execution_count": 20,
   "metadata": {},
   "outputs": [
    {
     "data": {
      "image/png": "[encoded data removed]",
      "text/plain": [
       "<Figure size 432x288 with 1 Axes>"
      ]
     },
     "metadata": {
      "needs_background": "light"
     },
     "output_type": "display_data"
    }
   ],
   "source": [
    "df_fold.question2_len.plot.hist(bins=20);"
   ]
  },
  {
   "cell_type": "markdown",
   "metadata": {},
   "source": [
    "# Load Universal Sentence Encoder (USE)"
   ]
  },
  {
   "cell_type": "code",
   "execution_count": 21,
   "metadata": {},
   "outputs": [],
   "source": [
    "import tensorflow_hub as hub"
   ]
  },
  {
   "cell_type": "code",
   "execution_count": 22,
   "metadata": {},
   "outputs": [],
   "source": [
    "embed = hub.load(\"https://tfhub.dev/google/universal-sentence-encoder/4\")"
   ]
  },
  {
   "cell_type": "code",
   "execution_count": 23,
   "metadata": {},
   "outputs": [],
   "source": [
    "embeddings = embed([\n",
    "    \"The quick brown fox jumps over the lazy dog.\",\n",
    "    \"I am a sentence for which I would like to get its embedding\"])\n",
    "\n"
   ]
  },
  {
   "cell_type": "code",
   "execution_count": 24,
   "metadata": {},
   "outputs": [],
   "source": [
    "import torch"
   ]
  },
  {
   "cell_type": "markdown",
   "metadata": {},
   "source": [
    "## Ensure reproducibility"
   ]
  },
  {
   "cell_type": "code",
   "execution_count": 25,
   "metadata": {},
   "outputs": [],
   "source": [
    "#Reproducing same results\n",
    "SEED = 2021\n",
    "\n",
    "#Torch\n",
    "torch.manual_seed(SEED)\n",
    "\n",
    "#Cuda algorithms\n",
    "torch.backends.cudnn.deterministic = True  "
   ]
  },
  {
   "cell_type": "code",
   "execution_count": 26,
   "metadata": {},
   "outputs": [],
   "source": [
    "import torch.nn as nn"
   ]
  },
  {
   "cell_type": "code",
   "execution_count": 27,
   "metadata": {},
   "outputs": [],
   "source": [
    "BATCH_SIZE = 256"
   ]
  },
  {
   "cell_type": "markdown",
   "metadata": {},
   "source": [
    "# Design Train Dataloader"
   ]
  },
  {
   "cell_type": "code",
   "execution_count": 28,
   "metadata": {},
   "outputs": [],
   "source": [
    "from torch.utils.data import DataLoader, Dataset"
   ]
  },
  {
   "cell_type": "code",
   "execution_count": 29,
   "metadata": {},
   "outputs": [
    {
     "data": {
      "text/plain": [
       "device(type='cuda')"
      ]
     },
     "execution_count": 29,
     "metadata": {},
     "output_type": "execute_result"
    }
   ],
   "source": [
    "device = torch.device('cuda' if torch.cuda.is_available() else 'cpu')\n",
    "device"
   ]
  },
  {
   "cell_type": "code",
   "execution_count": 30,
   "metadata": {},
   "outputs": [],
   "source": [
    "class QuoraTrainData(Dataset):\n",
    "    def __init__(self, df: pd.DataFrame):\n",
    "        self.df = df\n",
    "    \n",
    "    def __len__(self):\n",
    "        return len(self.df)\n",
    "    \n",
    "    def __getitem__(self, idx):\n",
    "        q1 = self.df.iloc[idx].question1\n",
    "        q2 = self.df.iloc[idx].question2\n",
    "        label = self.df.iloc[idx].is_duplicate\n",
    "        \n",
    "        return {\"q1\": q1, \"q2\": q2, \"label\": label}"
   ]
  },
  {
   "cell_type": "code",
   "execution_count": 31,
   "metadata": {},
   "outputs": [],
   "source": [
    "\n",
    "FOLD_MAPPPING = {\n",
    "    0: [1, 2, 3, 4],\n",
    "    1: [0, 2, 3, 4],\n",
    "    2: [0, 1, 3, 4],\n",
    "    3: [0, 1, 2, 4],\n",
    "    4: [0, 1, 2, 3]\n",
    "}"
   ]
  },
  {
   "cell_type": "code",
   "execution_count": 32,
   "metadata": {},
   "outputs": [],
   "source": [
    "FOLD = 0"
   ]
  },
  {
   "cell_type": "code",
   "execution_count": 33,
   "metadata": {},
   "outputs": [],
   "source": [
    "train_df = df_fold[df_fold.kfold.isin(FOLD_MAPPPING.get(FOLD))].reset_index(drop=True)\n",
    "valid_df = df_fold[df_fold.kfold==FOLD].reset_index(drop=True)"
   ]
  },
  {
   "cell_type": "code",
   "execution_count": 34,
   "metadata": {},
   "outputs": [
    {
     "data": {
      "text/plain": [
       "((323430, 9), (80857, 9))"
      ]
     },
     "execution_count": 34,
     "metadata": {},
     "output_type": "execute_result"
    }
   ],
   "source": [
    "train_df.shape, valid_df.shape"
   ]
  },
  {
   "cell_type": "code",
   "execution_count": 35,
   "metadata": {},
   "outputs": [
    {
     "data": {
      "text/html": [
       "<div>\n",
       "<style scoped>\n",
       "    .dataframe tbody tr th:only-of-type {\n",
       "        vertical-align: middle;\n",
       "    }\n",
       "\n",
       "    .dataframe tbody tr th {\n",
       "        vertical-align: top;\n",
       "    }\n",
       "\n",
       "    .dataframe thead th {\n",
       "        text-align: right;\n",
       "    }\n",
       "</style>\n",
       "<table border=\"1\" class=\"dataframe\">\n",
       "  <thead>\n",
       "    <tr style=\"text-align: right;\">\n",
       "      <th></th>\n",
       "      <th>id</th>\n",
       "      <th>qid1</th>\n",
       "      <th>qid2</th>\n",
       "      <th>question1</th>\n",
       "      <th>question2</th>\n",
       "      <th>is_duplicate</th>\n",
       "      <th>kfold</th>\n",
       "      <th>question1_len</th>\n",
       "      <th>question2_len</th>\n",
       "    </tr>\n",
       "  </thead>\n",
       "  <tbody>\n",
       "    <tr>\n",
       "      <th>0</th>\n",
       "      <td>114488</td>\n",
       "      <td>186875</td>\n",
       "      <td>186876</td>\n",
       "      <td>On Facebook messenger, what does a grey circle...</td>\n",
       "      <td>How do I remove the blue squiggle icon from th...</td>\n",
       "      <td>0</td>\n",
       "      <td>0</td>\n",
       "      <td>12</td>\n",
       "      <td>20</td>\n",
       "    </tr>\n",
       "    <tr>\n",
       "      <th>1</th>\n",
       "      <td>178457</td>\n",
       "      <td>274086</td>\n",
       "      <td>274087</td>\n",
       "      <td>Who decided that 36-24-36 is the perfect figur...</td>\n",
       "      <td>What is it like to be an Indian woman?</td>\n",
       "      <td>0</td>\n",
       "      <td>0</td>\n",
       "      <td>16</td>\n",
       "      <td>9</td>\n",
       "    </tr>\n",
       "    <tr>\n",
       "      <th>2</th>\n",
       "      <td>28495</td>\n",
       "      <td>52834</td>\n",
       "      <td>52835</td>\n",
       "      <td>Who are the A-List actors in Hollywood?</td>\n",
       "      <td>Who is the top actor right now in Hollywood?</td>\n",
       "      <td>0</td>\n",
       "      <td>0</td>\n",
       "      <td>7</td>\n",
       "      <td>9</td>\n",
       "    </tr>\n",
       "    <tr>\n",
       "      <th>3</th>\n",
       "      <td>293815</td>\n",
       "      <td>195024</td>\n",
       "      <td>183896</td>\n",
       "      <td>What are the main imports and exports of Venez...</td>\n",
       "      <td>What are the main imports and exports of Venez...</td>\n",
       "      <td>0</td>\n",
       "      <td>0</td>\n",
       "      <td>17</td>\n",
       "      <td>17</td>\n",
       "    </tr>\n",
       "    <tr>\n",
       "      <th>4</th>\n",
       "      <td>325846</td>\n",
       "      <td>452102</td>\n",
       "      <td>452103</td>\n",
       "      <td>What type of questions are in the airforce ada...</td>\n",
       "      <td>What is a question to test?</td>\n",
       "      <td>0</td>\n",
       "      <td>0</td>\n",
       "      <td>10</td>\n",
       "      <td>6</td>\n",
       "    </tr>\n",
       "  </tbody>\n",
       "</table>\n",
       "</div>"
      ],
      "text/plain": [
       "       id    qid1    qid2                                          question1  \\\n",
       "0  114488  186875  186876  On Facebook messenger, what does a grey circle...   \n",
       "1  178457  274086  274087  Who decided that 36-24-36 is the perfect figur...   \n",
       "2   28495   52834   52835            Who are the A-List actors in Hollywood?   \n",
       "3  293815  195024  183896  What are the main imports and exports of Venez...   \n",
       "4  325846  452102  452103  What type of questions are in the airforce ada...   \n",
       "\n",
       "                                           question2  is_duplicate  kfold  \\\n",
       "0  How do I remove the blue squiggle icon from th...             0      0   \n",
       "1             What is it like to be an Indian woman?             0      0   \n",
       "2       Who is the top actor right now in Hollywood?             0      0   \n",
       "3  What are the main imports and exports of Venez...             0      0   \n",
       "4                        What is a question to test?             0      0   \n",
       "\n",
       "   question1_len  question2_len  \n",
       "0             12             20  \n",
       "1             16              9  \n",
       "2              7              9  \n",
       "3             17             17  \n",
       "4             10              6  "
      ]
     },
     "execution_count": 35,
     "metadata": {},
     "output_type": "execute_result"
    }
   ],
   "source": [
    "valid_df.head()"
   ]
  },
  {
   "cell_type": "code",
   "execution_count": 36,
   "metadata": {},
   "outputs": [],
   "source": [
    "train_dataset = QuoraTrainData(train_df)\n",
    "train_loader = DataLoader(train_dataset, batch_size=BATCH_SIZE, shuffle=True)"
   ]
  },
  {
   "cell_type": "code",
   "execution_count": 37,
   "metadata": {},
   "outputs": [],
   "source": [
    "valid_dataset = QuoraTrainData(valid_df)\n",
    "valid_loader = DataLoader(valid_dataset, batch_size=BATCH_SIZE, shuffle=True)"
   ]
  },
  {
   "cell_type": "markdown",
   "metadata": {},
   "source": [
    "## Check train dataset"
   ]
  },
  {
   "cell_type": "code",
   "execution_count": 38,
   "metadata": {},
   "outputs": [
    {
     "data": {
      "text/plain": [
       "{'q1': 'What is the most common business of millionaires?',\n",
       " 'q2': 'What are the most common routes that create young millionaires?',\n",
       " 'label': 1}"
      ]
     },
     "execution_count": 38,
     "metadata": {},
     "output_type": "execute_result"
    }
   ],
   "source": [
    "# 5th example\n",
    "train_dataset.__getitem__(5)"
   ]
  },
  {
   "cell_type": "code",
   "execution_count": 39,
   "metadata": {},
   "outputs": [
    {
     "data": {
      "text/plain": [
       "{'q1': 'Where can I get very competitive assistance in Eastern Suburbs for commercial water heater installation & service?',\n",
       " 'q2': 'Where can I get very affordable services for water heater installation in Eastern Suburbs?',\n",
       " 'label': 0}"
      ]
     },
     "execution_count": 39,
     "metadata": {},
     "output_type": "execute_result"
    }
   ],
   "source": [
    "valid_dataset.__getitem__(5)"
   ]
  },
  {
   "cell_type": "markdown",
   "metadata": {},
   "source": [
    "## Check train dataloader"
   ]
  },
  {
   "cell_type": "code",
   "execution_count": 40,
   "metadata": {},
   "outputs": [],
   "source": [
    "train_iter = iter(train_loader)\n",
    "res = train_iter.next()"
   ]
  },
  {
   "cell_type": "code",
   "execution_count": 41,
   "metadata": {
    "scrolled": true
   },
   "outputs": [
    {
     "data": {
      "text/plain": [
       "{'q1': ['Would it have decreased the rate of rapes in India, if prostitution were made legal?',\n",
       "  'What are the differences between a love marriage and an arranged marriage?',\n",
       "  \"Why isn't Quora listed in Klout?\",\n",
       "  'I want to become a Machine learning engineer. Should I take a machine learning master degree or instead a Udacity nanodegree?',\n",
       "  'How good is the book \"Probability and Statistical Inference\" by Nitis Mukhopadhyay?',\n",
       "  'Can somebody help me to solve this problems?',\n",
       "  'How important is sex in a successful relationship?',\n",
       "  'What online payment methods are most popular in Yemen?',\n",
       "  'Which books/novels should I gift to my wife / girlfriend / fiance? (Why?) Which one should be the first ?',\n",
       "  'Is it possible to get pregnant before period or after period ends?',\n",
       "  'What is the best command line tools to test restful API (node)?',\n",
       "  'How do I overcome my inferiority complex ?',\n",
       "  'How do I get a job in IT sector without shifts?',\n",
       "  'How much do partners make at top law firms?',\n",
       "  'What is tree(x)?',\n",
       "  'How would I know if someone deactivated their KIK account?',\n",
       "  'What are the biggest differences between the Jeep Wrangler trims?',\n",
       "  'What are the books that should be read by everyone?',\n",
       "  'What was the significance of the battle of Somme, and how did this battle compare and contrast to the Battle of Penang?',\n",
       "  'How can one distinguish an original pioneer car stereo from a fake one?',\n",
       "  'How fun is to be a programmer?',\n",
       "  'What is the easiest way to hire talented people for a startup?',\n",
       "  \"What are Hillary's qualifications to be president?\",\n",
       "  'Does Gary Johnson stand a chance of being elected president?',\n",
       "  'How many electronic devices can one carry without being charged at India Airport customs ?',\n",
       "  'What do intelligent people do to pass time?',\n",
       "  'Who is the all in one astrologer in india?',\n",
       "  'What would happen if the shape of earth became a hollow semi-sphere? Would it be possible to stand on the inner surface?',\n",
       "  'What is the worst name in the English language?',\n",
       "  'My blood sugar is 109 is it ok?',\n",
       "  'What all companies visit IIITD for M.Tech (CSE) placements?',\n",
       "  'Why does Pizza Hut offers most of the discount coupons on medium pizzas?',\n",
       "  'Which is the best laptop to buy under 30k?',\n",
       "  'Why does blue vitriol change its colour from blue to white on heating?',\n",
       "  'How do I reset my gmail password when I forgot without phone number and recovery mail?',\n",
       "  'Yale University: Who are the most distinctive faculty in the Yale History department?',\n",
       "  'What are some interesting and new mechanical seminar topics?',\n",
       "  'Is the United States military overrated?',\n",
       "  'Which is the most important thing in life?',\n",
       "  'Does Uber pick up from BOS (Logan airport)?',\n",
       "  'What is the molar volume of a gas at STP?',\n",
       "  'How do I deal with infidelity in a relationship?',\n",
       "  'Which is a good solar panel installation provider near Tempe, Arizona AZ?',\n",
       "  \"What's the maximum age limit to get a car driving license in India?\",\n",
       "  'Why does clock show 10:10 in comercials?',\n",
       "  'Is it acceptable for your partner to insist on you seeking counselling as a condition for carrying on the relationship?',\n",
       "  'Can a candidate from one state apply for Public Service Commission posts(PSC) for another state in India?',\n",
       "  'Why do many Indians hate Chinese people and think that Chinese want to destroy India?',\n",
       "  'Do we need conscience? Why do we need conscience?',\n",
       "  'What is the best gay Asian dating sites or apps?',\n",
       "  'Are the requirements to join the Startup Castle legal?',\n",
       "  'How does second order low pass filter operates using IC 741 and also explain its output expressions for frequency and gain?',\n",
       "  \"I'm depressed, Bored, suffering from social anxiety and am also dealing with loneliness. How can I cure myself soon?\",\n",
       "  'What can someone do when bored in an office?',\n",
       "  'Redmi note 3 vs Redmi 3?',\n",
       "  'Should I write up a draft outline/letter to send in an email requesting a LoR?',\n",
       "  \"Does the word 'slave' come from the name of the Slavic people?\",\n",
       "  'What are some of the best examples of \"beauty with brains\"?',\n",
       "  'What are some tips for socializing in grad student parties?',\n",
       "  'What are the social media usage trends in Tanzania?',\n",
       "  'What is the full form of AM and PM?',\n",
       "  'What are some of the best work from home jobs for students?',\n",
       "  'What are some companies using BitTorrent DNA?',\n",
       "  'Can an ias officer go for vacation?',\n",
       "  'What are some cool things in C++?',\n",
       "  'How does it feel to walk on Jupiter?',\n",
       "  'Could I still be pregnant?',\n",
       "  'What does 10 ATM mean on a watch?',\n",
       "  'Can hormonal imbalance lead to weight gain?',\n",
       "  'How can I become an affiliate marketer?',\n",
       "  'Are there any great research work done in civil engineering?',\n",
       "  'What is the best black dating site?',\n",
       "  \"What is the Personal Property Security Act and how is Nova Scotia's different from Newfoundland's?\",\n",
       "  'What is the best tool for creating a visual sitemap?',\n",
       "  'What is the best resource to lean about all the isms - communism, capitalism, liberalism, and right wing, left wing, all these political terms?',\n",
       "  'Is there any easy way to make money online?',\n",
       "  'What is the difference between listening through ears and listening through heart?',\n",
       "  'How does wine best describe moral philosophy as a whole?',\n",
       "  'If God knew Lucifer would rebel against him, then why did He create him?',\n",
       "  'How do you come up with the idea for a new game?',\n",
       "  'If there were an index to indicate the all around usefulness of Spanish, French, German and Italian, which would be the highest scoring language for an English speaker who would be choosing a second language to learn?',\n",
       "  'What are the best universities for microibiology students to study in USA?',\n",
       "  'What is the legislative branch responsible for? What is the publication of the legislative branch?',\n",
       "  'What is it like to be a programmer in Japan?',\n",
       "  'What is the best way to learn how to hack (whitehat)?',\n",
       "  'What is the bad thing about quora?',\n",
       "  'How is development of the Indian PM Modi\\'s \"democratic value or common value diplomacy\" he started when he was in power by visiting Japan?',\n",
       "  \"How will India's economy be affected if India goes to war against Pakistan?\",\n",
       "  'Is Donald Trump a danger to the human race?',\n",
       "  'Can I do photography for a job?',\n",
       "  'How do you decorate your house in Skyrim?',\n",
       "  'What can cause third world war?',\n",
       "  'What are the most popular topics in chemical engineering in which scientists/engineers are working in/researching in?',\n",
       "  'What is the best way to use condom safely?',\n",
       "  'How relevant are Codeforces problems for preparing for ACM-ICPC? Am I better off solving problems from UVa and SPOJ?',\n",
       "  'What are the genuine way to earn money through online?',\n",
       "  'Should I wear a watch?',\n",
       "  \"Where is Sir Arthur Conan Doyle's house?\",\n",
       "  \"Is the Higg's Field basically luminiferous aether?\",\n",
       "  'How do I drop my middle name kumar?',\n",
       "  'How can you use voice call on iPhone 5s in Jio sim?',\n",
       "  'Weapons to bring to a zombie apocalypse?',\n",
       "  'How do sucrose and sulfuric acid react together?',\n",
       "  'What is churchofsatan.com?',\n",
       "  'What is the most efficient way to make money?',\n",
       "  'Which are the best movies in the world?',\n",
       "  'What do we mean by paradigms of research?',\n",
       "  'Is skateboarding easy? Why or why not?',\n",
       "  'What is the difference between multivariable calculus and multivariate calculus?',\n",
       "  'When will I find love again?',\n",
       "  'Is eating meat still justifiable in modern societies?',\n",
       "  \"What is the strangest dream you've ever had?\",\n",
       "  'What is the best time to buy a car?',\n",
       "  'Gender: What are the differences between the \"waves\" of feminism? What are other similar terms?',\n",
       "  'How do I find best online sites for watching TV shows?',\n",
       "  'I\\'m texting my girlfriend and she says she\\'s going to come over and \"man handle me\" tonight. What does that mean? What should I expect?',\n",
       "  'What are some characteristics of arachnids? What are some examples?',\n",
       "  'What is a psychologist?',\n",
       "  'Can the sum of two vectors be equal to either vector?',\n",
       "  'Why are non-mathematicians obsessed with the digits of [math]\\\\pi[/math]?',\n",
       "  'Can Muslim women be Feminists?',\n",
       "  'Can someone increase their height after 25 years?',\n",
       "  'Who advised Modi to demonetize 500 and 1000 rupee notes?',\n",
       "  'Do you think demonetization will lead to end of Black Money in India?',\n",
       "  'What are good interview questions to test for judgement?',\n",
       "  \"Which is correct - 'Looking forward to speak with you' or 'Look forward to speak with you'?\",\n",
       "  'Cost of living in visalia CA?',\n",
       "  'How many prophets of Islam were there?',\n",
       "  'Where can one find statistics for the music business?',\n",
       "  'How would you explain solved exercise 2 of chapter 3 of \"Algorithm Design\" by Eva Tardos?',\n",
       "  'What is that one movie you recommend me watching right now?',\n",
       "  'What is the best crop for a small farm?',\n",
       "  'Will it be possible to grow vegetation on mars as they have depicted in the movie Martian ?',\n",
       "  'What hotel in Vagamon Hill-station would be safe for unmarried couples, without the harassment of police, hotel staff, and moral police?',\n",
       "  'How do I find all the followers of a question in Quora?',\n",
       "  'What destroyed your marriage?',\n",
       "  'How exactly does banning Rs 500 and Rs 1000 notes curb the problem of black money?',\n",
       "  'Why does my old cell number come up when I call a friend?',\n",
       "  'Why is the Devil any jew, perv, atheist or miscegenation?',\n",
       "  'For a pawn shop, what does \"Anything of Value\" mean? Most importantly, what are its limitations?',\n",
       "  'Currently the operating system is not configured to run this application?',\n",
       "  'How do you wash your hair?',\n",
       "  'What are some of the science errors in the martian?',\n",
       "  'Give names of some of the best horror movies?',\n",
       "  'How much water should I drink a day to lose weight?',\n",
       "  'Why is Superman the best superhero?',\n",
       "  'How do make money by creating videos for Facebook?',\n",
       "  'How do you write a thank you letter to a cooperating teacher?',\n",
       "  'What happens when I block and unblock someone on snapchat?',\n",
       "  'What do you think is the most important in a relationship?',\n",
       "  'How do I connect hard disk to router without a USB?',\n",
       "  'How do Altec phones compare to Android phones?',\n",
       "  'What is the best way to become a freelance travel writer?',\n",
       "  'What is holiness?',\n",
       "  'Does a pre-revenue startup (DE C-Corp, based in CA) have to pay salaries to cofounders?',\n",
       "  'How to prevent from pimples to break out inside the nose?',\n",
       "  'What impact are you wanting to leave on this world?',\n",
       "  'What are the regular mail delivery days in the U.S.?',\n",
       "  'What is it like to be raised by Indian mother?',\n",
       "  'Why do people procrastinate? Is there any relation between procrastination and the quick fix society?',\n",
       "  'What are the qualities of a great leader?',\n",
       "  'Why should we use Quora when we can Google everything?',\n",
       "  'What is the best way to live happy life?',\n",
       "  'How should I plan a trip of few days to Goa?',\n",
       "  'How can I learn the Tamil language?',\n",
       "  'What are some good films set in Madrid?',\n",
       "  'How does physical stress like doing exercise or hard labor activities relieve mental stress?',\n",
       "  'What are best ideas to start small business in a small city with less investment?',\n",
       "  'What does it mean when a girl sends a mix signal and, what should I do?',\n",
       "  'How can I stop getting jealous easily?',\n",
       "  'How do I calculate interest rate from emi manually?',\n",
       "  'How would a conversation between two introverts be like?',\n",
       "  'Does the C.P.H. 4 molecule really exist as shown in the movie Lucy? If so, how does it work?',\n",
       "  'How do I block someone on IMO?',\n",
       "  'How does one invite email contacts to like Facebook page?',\n",
       "  'What is the difference between stratified random sampling and cluster sampling?',\n",
       "  'What is the scope (available jobs) of a psychology degree in India?',\n",
       "  'Should I stop masturbating? ',\n",
       "  'Where did the emperor of Japan hide during the war?',\n",
       "  'How python is used in a company like google?',\n",
       "  'If I apply for a Schengen visa single entry to go to prague, am I allowed to visit other Schengen countries after landing In Prague?',\n",
       "  'Can I crack IIT JEE with 5-6 months of preparation?',\n",
       "  'How can I improve my hand lettering skills?',\n",
       "  'What are you doing while on Quora?',\n",
       "  'How do I Prepare myself for Studying Abroad?',\n",
       "  'What are the best shopping places in Bengaluru for silk sarees?',\n",
       "  'What happens to the uterus lining after an anovulatory cycle?',\n",
       "  'What do the Japanese teach children about Pearl Harbor?',\n",
       "  'What is the business model of Duolingo?',\n",
       "  'How does the HP OfficeJet 4620 Airprint compare to the HP DesignJet T795 44-in Printer?',\n",
       "  'Those behind humiliating me & my family demand an apology after I retaliated & insulted them. Do they deserve an apology or not?',\n",
       "  'How do I to determine the iodine value of saturated fatty acids?',\n",
       "  'How do I master coding?',\n",
       "  'When should we have sex?',\n",
       "  'What are the most interesting career options in India?',\n",
       "  'I feel like a failure of a student. How should I improve myself?',\n",
       "  \"Why can't foxes be domesticated?\",\n",
       "  'Why did Allah SWT not choose to completely destroy Satan?',\n",
       "  'Why is Akbar considered great?',\n",
       "  'Jet Engines: What is the role of \"Chevron Nozzle\" in Boeing B787 Dreamliner Aircraft?',\n",
       "  'What brand of bike to buy for city commute?',\n",
       "  'What are the leading companies focused on healthcare big data and analytics?',\n",
       "  'What are some funny pick-up lines on tinder?',\n",
       "  'What does \"96 Kuli Maratha\" actually mean?',\n",
       "  'What is the best institute for CAT preparation in Delhi?',\n",
       "  'What are the pros of population growth? What are its cons?',\n",
       "  'What would happen if the Moon was blue?',\n",
       "  'How does the process in which Japanese grow watermelon differ from the process Portuguese use?',\n",
       "  'How could I avoid laziness?',\n",
       "  'I am being offered a job as a Solutions Architect in Microsoft Singapore. The job offer says level 62. This appears to be somewhat low in the hierarchy given that I have 17 years of IT consulting experience. Any feedback?',\n",
       "  'What makes your house feel like a home?',\n",
       "  'Cluedo vs. Scotland Yard - which is the better game?',\n",
       "  'What is the best way to help a homeless person on the street?',\n",
       "  'A machine produces a metal profile at a speed of 30 meters/min. It takes about 15 seconds for the speed to reach from 0 to 30 m/min. After the first 15 seconds, the machine maintains a speed of 30 m/min for the remaining 45 seconds. What would the average speed be?',\n",
       "  \"What do you think about RBI's new move of banning 500 and 1000 notes?\",\n",
       "  'What programming language does codecademy use?',\n",
       "  'How can I remove dark circles under eye?',\n",
       "  'What are the differences between testing desktop, mobile and web applications?',\n",
       "  'Why do armies now use lower calibers than during WW2? Is the 5.56 NATO a weak caliber?',\n",
       "  'Can I get a credit card without Income Tax Return?',\n",
       "  'What language has the most phonetic alphabet, and which language has the most unphonetic alphabet (besides English)?',\n",
       "  'How can I improve my story writing skills?',\n",
       "  'What is unusual or different about the food and cuisine in China?',\n",
       "  'How wealthy is Donald Trump?',\n",
       "  'How do you make egg fried rice?',\n",
       "  'Is there anyone here with schizoid personality disorder?',\n",
       "  'How did you overcome your depression?',\n",
       "  'How do I download books from Google Books for free?',\n",
       "  'Is 1-1/0 infinity or zero?',\n",
       "  'How do I analyse and predict volcanic eruption using big data?',\n",
       "  'Does the nature of sound change with a change in dimension? Any research papers or mathematics would be appreciated.',\n",
       "  'How do I hide my likes and comments from my friends on Facebook?',\n",
       "  'How can I join an NGO in Kolkata?',\n",
       "  'When did you realize your parents were bad cooks?',\n",
       "  'How much do does it cost to build a portal website?',\n",
       "  'What is maturity?',\n",
       "  'Who is this girl from Naruto Shippuden?',\n",
       "  \"How is the word 'candor' used in a sentence?\",\n",
       "  'How can you determine the formula for heat combustion?',\n",
       "  'How often should a couple have sex?',\n",
       "  'What are good pick up lines?',\n",
       "  'Why is the Internet so slow in China and what can be done to speed it up?',\n",
       "  'What is your review of the new iPhone 7/iPhone 7 Plus?',\n",
       "  'Why do people waste their time, when trying to prove a point, when it’s pointless and counterproductive?',\n",
       "  'Can I restore my deleted emails from a Gmail account?',\n",
       "  'What are the most important software packages for a mechanical design engineer to know?',\n",
       "  'What are common required and elective courses in ministry?',\n",
       "  \"What would you do if your bf/gf came out to you as being genderfluid and thus having both genders (not physically) when you're straight?\",\n",
       "  'How much does it cost to become an entrepreneur?',\n",
       "  'How can you block infrared and night vision cameras?',\n",
       "  'Which is the best search engine?',\n",
       "  'What does twine symbolize in \"To Kill a Mockingbird\"?',\n",
       "  'Can I have sex in the fourth dimension?',\n",
       "  'What is the health condition of Jayalalitha?',\n",
       "  'How can I have a dream within a dream?',\n",
       "  'What universities does Resource Capital recruit new grads from? What majors are they looking for?'],\n",
       " 'q2': ['Would it have helped in reducing the number of rapes in India ,if prostitution were made legal in India?',\n",
       "  'Which is better: an arranged marriage or a love marriage?',\n",
       "  \"Why hasn't Quora integrated with Klout?\",\n",
       "  'Is it worth to leave your job and complete Udacity nano degrees in machine learning and data analyst?',\n",
       "  'Which book is good for learning AP statistic?',\n",
       "  'Can somebody solve this problem?',\n",
       "  'Is sex really that important in maintaining long term happy relationship?',\n",
       "  'What online payment methods are most popular in Libya?',\n",
       "  'How do I get a book published?',\n",
       "  'Can I get pregnant 3 days after period if I bled for not even a full 3 days?',\n",
       "  'What is the best way to run a Robotium tests from a command line?',\n",
       "  'How can I overcome my severe inferiority complex?',\n",
       "  'How can I get a good IT job?',\n",
       "  'How much does a general partner at a top 10 US law firm make (on average)?',\n",
       "  \"What's this tree called?\",\n",
       "  'How do I delete my Kik account?',\n",
       "  'Are there any automatic Jeep Wranglers?',\n",
       "  'Which books are worth reading?',\n",
       "  'What was the significance of the battle of Somme, and how did this battle compare and contrast to the Battle of Eslands River?',\n",
       "  'How can I connect my ipad 2 to my car stereo?',\n",
       "  'How does one have \"fun\"?',\n",
       "  'What are some best practices for interviewing to hire the most talented people for a startup?',\n",
       "  'What are Hillary Clinton’s qualifications to be President?',\n",
       "  'Does Gary Johnson have a chance of winning the 2016 presidential election? What are the odds that he wins?',\n",
       "  'I want to bring iPhones from the USA in a suitcase: 100 pieces to India. How much customs will be charged if the value is $30k?',\n",
       "  'How do intelligent people spend their time?',\n",
       "  'Famous Astrologer in India?',\n",
       "  'What would have happened if Earth was pyramidal in shape?',\n",
       "  'What is the ugliest word in the English language?',\n",
       "  'Is there a blood sugar patch to get people of Sugar?',\n",
       "  'Do companies like Microsoft, Google, Facebook, etc. and other top notch firms visit DTU for M. Tech placements?',\n",
       "  'Why does Pizza Hut offer most discount coupons on medium pizzas?',\n",
       "  'I want a new laptop with maximum configuration under 30000?',\n",
       "  'Why is the colour of kerosene blue?',\n",
       "  'How will I recover my Gmail if I forgot my password and I lost my phone recovery?',\n",
       "  'Yale University: Who are the most distinctive faculty in the Yale Chemistry department?',\n",
       "  'What are the latest & good seminar topics for mechanical engineering?',\n",
       "  'Has United States lost its military power?',\n",
       "  'Are money, time, and friends the most important things in life?',\n",
       "  'Is it safe to have Uber pick me up at my home?',\n",
       "  'How is the molar volume of a gas at STP calculated?',\n",
       "  'How do I deal with infidelity problems?',\n",
       "  'Which is a suitable solar panel installation provider near Somerton, Arizona AZ?',\n",
       "  'How can I get a single driving license for both 2 wheeler and 4 wheeler valid across India? Is it possible to get international license for the same?',\n",
       "  'Why does clock show 10:10 in commercials?',\n",
       "  'Is there an Android app for cropping and rotating images before they are saved?',\n",
       "  'Can any one leave state level PSC post to join UPSC post?',\n",
       "  'Why do many Chinese medias brainwash Chinese people into believing that India is a paradise?',\n",
       "  'Why do we need conscience?',\n",
       "  'What are the best asian dating sites?',\n",
       "  'Are the requirements to join the Startup Castle reasonable?',\n",
       "  'How does second order low pass filter operates using IC 741and also explain its output expressions for frequency and gain?',\n",
       "  'I think I am suffering from depression. How can I help myself?',\n",
       "  'What can I do when I am bored with surfing internet in office?',\n",
       "  'Should I get the Redmi Note 3 or Redmi 3s?',\n",
       "  'How should I phrase an email/contact a professor if I might have to remind them to finish a LOR?',\n",
       "  \"Does the word 'Slavic' come from the word 'slave'?\",\n",
       "  'What is the best example of beauty and brains in Bollywood?',\n",
       "  'What is it like to date a grad student?',\n",
       "  'Eva Chen: What do you think is the trend going to be for social media in the next 5 years?',\n",
       "  'What is the full form of AM?',\n",
       "  'What is it with scammers and Western Union?',\n",
       "  'How do I get rid of BitTorrent?',\n",
       "  'Can IAS officer go for vacation to abroad?',\n",
       "  'What are some cool things you can do with c#?',\n",
       "  'Planetary Science: What would happen if you stood on Jupiter? Would you fall into the core, since it has no physical surface?',\n",
       "  'Could I be pregnant?',\n",
       "  'What is the difference between a $10,000 watch vs a $100,000 watch?',\n",
       "  'Does masturbation leads to weight gain?',\n",
       "  'What is an affiliate marketer? How do you become one?',\n",
       "  'Are there any great research work done in civil engineering if there what are that work?',\n",
       "  'What are the best black single dating sites (quality)?',\n",
       "  \"What is the Personal Property Security Act and how is Nova Scotia's different from British Columbia's?\",\n",
       "  'What is the best flow chart software for creating IA sitemaps?',\n",
       "  'What are the rationales behind raising taxes (like left-wing politicians in the US tend to do) and lowering taxes (right-wing)? Which works better?',\n",
       "  'How can I start to make money online?',\n",
       "  'If the decision is very crucial to your career, what should you listen to if your mind and heart are saying different things?',\n",
       "  'Can wine be a word that describes philosophy as a whole? How?',\n",
       "  'Why did god create the devil?',\n",
       "  'How do I come up with a good idea for a game?',\n",
       "  'Learning Languages: What is the best way to learn Italian as a native English speaker with good knowledge of Spanish and French?',\n",
       "  'What are the best studies and universities for microbiology students in USA?',\n",
       "  'What is the legislative branch responsible for?',\n",
       "  'Which programming languages do computer programmers in Japan use?',\n",
       "  'What is the best way to learn hacking in short time?',\n",
       "  'What are the bad things about Quora?',\n",
       "  'How will narendra modi be as a PM? Is he worth or will he be drunk with power like the rest?',\n",
       "  'How does our economy effect if war happens between India and Pakistan?',\n",
       "  'Is Donald Trump dangerous?',\n",
       "  'Where can I find photography jobs?',\n",
       "  'Why is Elder Scrolls V: Skyrim so popular?',\n",
       "  'What would spark a Third World War?',\n",
       "  'Research topics in chemical engineering?',\n",
       "  'How do I use a condom effectively?',\n",
       "  'I am green on Codeforces and Topcoder. Which online judge (SPOJ, Codechef, Codeforces, Topcoder, ACM Problem Archive) should I practice on to get strong in attempting problems?',\n",
       "  'What are most genuine ways to earn money online, which you have tried?',\n",
       "  'Do you like to wear watch?',\n",
       "  \"Where is Sir Arthur Conan Doyle's house? Is it open to tourists?\",\n",
       "  'Besides maturity of model, what are the differences between the Higgs field and aether?',\n",
       "  'Is it possible that quarks and other subatomic particles are not affected by gravity?',\n",
       "  'How do I make voice calls from Jio 4G in iPhone 5?',\n",
       "  'Is Cornell need blind for internationals? Please post the link from their website as an evidence.',\n",
       "  'What happens when magnesium and sulfuric acid react?',\n",
       "  'What is qiymat.com?',\n",
       "  'What is the best way make extra money?',\n",
       "  'What is best movies till date?',\n",
       "  'What is paradigm in research?',\n",
       "  'Will skateboarding help me surf?',\n",
       "  'What are the differences between single and multivariable calculus?',\n",
       "  'Will I find love?',\n",
       "  'What are the different kinds of departments that exist in a typical private equity company?',\n",
       "  \"What's the strangest dream you've had?\",\n",
       "  'When is the best time to buy a car?',\n",
       "  'How do you define Third Wave Feminism?',\n",
       "  'What are the best sites to watch TV shows?',\n",
       "  'What fun (non sexual) things can I do with my girlfriend when she comes over?',\n",
       "  'What are examples of acquired characteristics?',\n",
       "  'What does a psychologist do?',\n",
       "  'Can the sum of the magnitudes of two vectors ever be equal to the magnitude of the sum of the same two vectors?',\n",
       "  'Why are people obsessed with the number pi?',\n",
       "  'How many Muslim women are feminists?',\n",
       "  'Can I increase my height after 20 ? How?',\n",
       "  'Who advised PM Modi about the strategy of ceasing 500 & 1000 currency notes?',\n",
       "  'Do you think the demonetization affected black money holders?',\n",
       "  'What are the best interview questions?',\n",
       "  \"I feel weak at spoken English. I have sentences ready in my mind, but I can't speak it. What should I do?\",\n",
       "  'Which are the best app to search best College in India?',\n",
       "  'Did Islam exist before Muhammad?',\n",
       "  'What happened to my history on Quora? Where did the questions I asked and the ones I answered and my statistics go? Can they be restored or retrieved?',\n",
       "  'I have this project in algorithms and it requires to me find the time complexity of 2 job scheduling algorithms. Can anyone explain it to me?',\n",
       "  'What is the super best movie you recommend me to watch now? Your number 1 top list movies? Any kind (except horror)?',\n",
       "  'What is the best farming crop for a small land farmer?',\n",
       "  'Would it be possible to grow plants in martian soil with the right resources at your disposal (such as water and organic additives) like in the movie The Martian?',\n",
       "  'What hotel in Ooty Hill-station would be safe for unmarried couples, without the harassment of police, hotel staff, and moral police?',\n",
       "  'How can I follow a question on Quora?',\n",
       "  'What has ruined your marriage?',\n",
       "  'How would demonetizing 500 and 1000 rupee notes and introducing new 2000 rupee notes help curb black money and corruption?',\n",
       "  'Why does my old cell number ome up when I call a friend?',\n",
       "  'Why do religious people get possessed by the devil and not atheists?',\n",
       "  \"What are good changes that could be made to San Francisco's ecosystem of pawn shops and payday lenders to make the city a better place?\",\n",
       "  'Would it be possible to run console operating systems on a custom PC?',\n",
       "  'How do you wash your hairs?',\n",
       "  'How plausible is the science in The Martian?',\n",
       "  'What are the best horror movies that will keep you up at night?',\n",
       "  'How much water should I drink to lose weight and have glowing skin?',\n",
       "  'Electrical motor rewinding diagram?',\n",
       "  'How do people earn money from YouTube?',\n",
       "  'How do you write a thank you letter to a teacher?',\n",
       "  'If you block someone on WhatsApp what happen to Snapchat?',\n",
       "  'What is most important to you in a relationship and why?',\n",
       "  'Is a USB 3.0 external hard drive faster if it is connected to an eSATA port rather than to an USB 2.0 port?',\n",
       "  'What should Android phones be compared to?',\n",
       "  'How do you become a travel writer?',\n",
       "  \"What's the holiness of God?\",\n",
       "  'What are the specific legal exemptions that allow startup founders to not pay themselves without running afoul of employment regulations?',\n",
       "  'How can I avoid getting pimples inside my nose?',\n",
       "  'What impact do you want to leave on the world before you die?',\n",
       "  'What is the smallest amount for which I can mail a letter to France from the U.S.?',\n",
       "  'What is it like to be raised by an Indian mother?',\n",
       "  'Is there a relation between procrastination and the quick fix society?',\n",
       "  'What are the top qualities of a great leader?',\n",
       "  'Why do people use Quora when they know that they could find a more accurate answer on Google?',\n",
       "  'How should I live happy and satisfied in the life?',\n",
       "  'Is July a good month to visit Goa?',\n",
       "  'Why should one learn Tamil?',\n",
       "  'What are some ideas for a short film?',\n",
       "  'How do exercising and physical activities help with stress?',\n",
       "  'How do I start small business in less investment?',\n",
       "  'What does it mean when a girl sends mixed signals?',\n",
       "  'How do I stop being jealous of someone?',\n",
       "  'How do I design whole building by manual calculations using calculator?',\n",
       "  'How would a conversation between two extroverts be like?',\n",
       "  'Do really safe houses exist just like they show in movies?',\n",
       "  'If I blocked someone on Instagram can they block me?',\n",
       "  'Invite email contacts on Facebook page?',\n",
       "  'What are clear examples for stratified random sampling?',\n",
       "  'Is there any scope of psychology in India?',\n",
       "  'Should I stop masturbating?',\n",
       "  'Why did the USA and Japan go to war in 1941?',\n",
       "  \"How do companies like Google and Yahoo manage to provide email domains for a company's host name and still use Gmail or Yahoo in the background?\",\n",
       "  'If I have a tourist visa to one of the Schengen countries, can I go to other Schengen countries without applying for a Schengen visa?',\n",
       "  'Can the IIT JEE be cracked in 7 months?',\n",
       "  'How can I improve my IT skills?',\n",
       "  'What are you doing in Quora?',\n",
       "  'How do I prepare if I have to study abroad?',\n",
       "  'Which place in Bangalore is best for buying sarees?',\n",
       "  'How can I get doctors to remove my uterus?',\n",
       "  'What do the Japanese people believe were the reasons for their nation’s bombing of Pearl Harbor during WW2?',\n",
       "  'How will Trello make money?',\n",
       "  'How does the HP OfficeJet 4620 Airprint compare to the HP DesignJet T520 36-in Printer?',\n",
       "  'I was caught making out with my girlfriend at school. An apology letter is expected of me. How do I go about it?',\n",
       "  'How do I determine iodine value of saturated fatty acid?',\n",
       "  'What are the most efficient ways to master C++?',\n",
       "  'When should you be able to have sex?',\n",
       "  'What are the best career options in India?',\n",
       "  'Why should I improve myself?',\n",
       "  'Can foxes be domesticated? If so, how?',\n",
       "  'Do devils or Satan exist in the world?',\n",
       "  'Was Akbar Really Great?',\n",
       "  'Why does the ATR 42 aircraft have its engines embedded into the wings unlike jets such as the 787 which has its engines hanging below the wings?',\n",
       "  'What type of bike should I get to commute on pothole littered city streets?',\n",
       "  'Do you think big data analytics will bring about a revolution in the healthcare industry?',\n",
       "  'Is \"Why aren\\'t I in you?\" a good, confident, funny, and attractive pick up line (either online or offline)?',\n",
       "  'What does eating well actually mean?',\n",
       "  'What are the best coaching classes for CAT preparation in DELHI?',\n",
       "  'What are the pros and cons of population growth?',\n",
       "  'What would happen if there was no Moon?',\n",
       "  'How does the process in which Japanese grow watermelon differ from the process Canadians use?',\n",
       "  'How could I avoid my laziness?',\n",
       "  'I have a job offer from Microsoft that I have accepted (MSIT to be precise). It has been about a month since I accepted the offer and I am nearing my start date. In context of the upcoming layoffs, should I decline the offer?',\n",
       "  'What makes a house, a home?',\n",
       "  'How do I beat Pandemic with 2 players?',\n",
       "  'What are some of the best ways to help homeless people throughout the world?',\n",
       "  \"Why doesn't Pi have a 0 in its first 30 digits?\",\n",
       "  \"What does Balaji Vishwanathan think about Modi's new currency Idea?\",\n",
       "  'What programming Language is Codecademy written in?',\n",
       "  'How do I remove dark circles below eyes naturally?',\n",
       "  'What are the differences between testing mobile and web apps?',\n",
       "  'Why did NATO choose to use the 5.56 NATO round?',\n",
       "  'I paid the LIC premium of my family members using a credit card. How should we declare in income tax?',\n",
       "  'Which alphabet/script is the most phonetically complete?',\n",
       "  'How can I improve my writing skills to write advanced composition?',\n",
       "  'What is unusual or different about the food and cuisine in Poland?',\n",
       "  'Is Donald Trump rich?',\n",
       "  'I want to prepare fried rice, which rice should I use?',\n",
       "  'Is being phony good?',\n",
       "  'How do I overcome depression?',\n",
       "  'Can we download Google books that are not free?',\n",
       "  'Is 1/0 infinity?',\n",
       "  'How do I get a big enough data set to learn Hadoop or any of the new technologies which allow you to analyse Big Data?',\n",
       "  'How does one mentally become an adult?',\n",
       "  'How do I stop the things friends like or comment on from showing up in my Facebook News Feed?',\n",
       "  'How can I join an NGO?',\n",
       "  \"What's the worst thing your parent has ever said to you?\",\n",
       "  'How much does it cost to build a website?',\n",
       "  'What can be termed as maturity?',\n",
       "  'Why is Naruto Shippuden not being dubbed?',\n",
       "  \"How is the word 'precariously' used in a sentence?\",\n",
       "  'What is the correct formula to calculate heat of combustion?',\n",
       "  'How often should a person have sex?',\n",
       "  'What is the best pick up line someone used on you?',\n",
       "  'Why is the Internet in China so slow?',\n",
       "  'What are your views on the new released iPhone 7 and iPhone 7 plus?',\n",
       "  'Where/how are people wasting their time?',\n",
       "  'Is it possible to recover an email deleted from the Gmail trash folder?',\n",
       "  'Which is best software that mechanical  design engineer can use efficiently?',\n",
       "  'What are common required and elective courses in music?',\n",
       "  'What would you do?',\n",
       "  'How much it cost to be an Endeavor entrepreneur ?',\n",
       "  'How would you block/disable/jam night vision?',\n",
       "  'What is the best email search engine?',\n",
       "  'In \"To Kill a Mockingbird,\" what does the knife symbolize?',\n",
       "  'How does fourth dimension works?',\n",
       "  'What is the health condition of Tamilnadu CM Jayalalitha?',\n",
       "  'How can you dream within a dream?',\n",
       "  'What universities does Informatica recruit new grads from? What majors are they looking for?'],\n",
       " 'label': tensor([1, 0, 1, 0, 0, 0, 1, 0, 0, 1, 0, 0, 0, 0, 0, 0, 0, 1, 1, 0, 0, 0, 1, 1,\n",
       "         0, 1, 1, 0, 0, 0, 0, 1, 1, 0, 1, 0, 1, 0, 1, 0, 0, 1, 0, 0, 1, 0, 0, 0,\n",
       "         1, 1, 0, 1, 0, 1, 0, 0, 1, 0, 0, 0, 0, 0, 0, 0, 0, 0, 0, 0, 0, 0, 1, 1,\n",
       "         0, 0, 0, 1, 0, 1, 1, 1, 0, 1, 1, 0, 1, 1, 0, 1, 1, 0, 0, 1, 0, 1, 0, 1,\n",
       "         0, 1, 0, 0, 0, 0, 0, 0, 1, 1, 1, 0, 0, 0, 0, 1, 0, 0, 1, 0, 0, 0, 1, 0,\n",
       "         0, 1, 1, 1, 0, 0, 0, 0, 0, 0, 1, 1, 1, 0, 0, 1, 1, 1, 0, 0, 0, 1, 0, 1,\n",
       "         1, 0, 0, 1, 0, 1, 0, 0, 0, 0, 0, 1, 1, 0, 1, 1, 1, 1, 0, 0, 0, 0, 1, 0,\n",
       "         0, 1, 0, 0, 0, 0, 0, 0, 1, 1, 0, 0, 1, 0, 0, 1, 1, 0, 0, 0, 0, 0, 0, 1,\n",
       "         0, 1, 1, 1, 0, 0, 1, 0, 0, 0, 0, 0, 1, 1, 0, 0, 1, 0, 1, 0, 1, 0, 1, 1,\n",
       "         1, 1, 1, 0, 0, 1, 0, 1, 0, 0, 0, 0, 0, 0, 0, 0, 0, 0, 0, 1, 0, 0, 1, 0,\n",
       "         0, 1, 1, 0, 1, 0, 0, 0, 0, 0, 0, 0, 0, 1, 1, 0])}"
      ]
     },
     "execution_count": 41,
     "metadata": {},
     "output_type": "execute_result"
    }
   ],
   "source": [
    "res"
   ]
  },
  {
   "cell_type": "markdown",
   "metadata": {},
   "source": [
    "# Design Model"
   ]
  },
  {
   "cell_type": "markdown",
   "metadata": {},
   "source": [
    "## Architecture\n",
    "\n",
    "- [Idea from Abhishek Thakur](https://www.linkedin.com/pulse/duplicate-quora-question-abhishek-thakur/)\n",
    "\n",
    "<center>\n",
    "    <img src='../images/NN_Architecture.jpg' width='400'>\n",
    "    \n",
    "</center>"
   ]
  },
  {
   "cell_type": "markdown",
   "metadata": {},
   "source": [
    "## Multilayer Perceptron (Linear model)"
   ]
  },
  {
   "cell_type": "code",
   "execution_count": 42,
   "metadata": {},
   "outputs": [],
   "source": [
    "class IsDuplicate(nn.Module):\n",
    "    def __init__(self, output_dim: int, emb_dim: int, hid_dim=512):\n",
    "        \"\"\"Simple MultiLayerPerceptron\n",
    "            Linear model\n",
    "        \"\"\"\n",
    "        super().__init__()\n",
    "        #dense layer\n",
    "        self.fc1 = nn.Linear(emb_dim * 2, hid_dim)\n",
    "        \n",
    "        self.fc2 = nn.Linear(hid_dim, output_dim)\n",
    "        \n",
    "        #activation function\n",
    "        self.act = nn.Sigmoid()\n",
    "        \n",
    "    def forward(self, text1:[str], text2:[str]):\n",
    "        \"\"\"\n",
    "        text1: list of strings from question1, len: batch_size\n",
    "        text2: list of strings from question2, len: batch_size\n",
    "        \"\"\"\n",
    "        \n",
    "        emb1 = embed(text1)\n",
    "        e1 = torch.from_numpy(emb1.numpy()).to(device)\n",
    "        # e1.size()\n",
    "        \n",
    "        emb2 = embed(text2)\n",
    "        e2 = torch.from_numpy(emb2.numpy()).to(device)\n",
    "        # e2.size()\n",
    "        \n",
    "        hidden = torch.cat((e1, e2), dim = 1)\n",
    "        \n",
    "        #hidden = [batch size, hid dim * num directions]\n",
    "        dense_outputs1=self.fc1(hidden)\n",
    "        dense_outputs2=self.fc2(dense_outputs1)\n",
    "\n",
    "        #Final activation function\n",
    "        outputs=self.act(dense_outputs2)\n",
    "        \n",
    "        return outputs"
   ]
  },
  {
   "cell_type": "markdown",
   "metadata": {},
   "source": [
    "## Non-linear deeper model"
   ]
  },
  {
   "cell_type": "code",
   "execution_count": 43,
   "metadata": {},
   "outputs": [],
   "source": [
    "class IsDuplicateAdv(nn.Module):\n",
    "    def __init__(self, output_dim: int, emb_dim: int, hid_dim=512):\n",
    "        \"\"\"Non Linear model\n",
    "        \"\"\"\n",
    "        super().__init__()\n",
    "        #dense layer\n",
    "        \n",
    "        self.batchnorm1 = nn.BatchNorm1d(emb_dim * 2)\n",
    "        self.dropout = nn.Dropout(p=0.2)\n",
    "        self.nonlinear = nn.PReLU()\n",
    "        \n",
    "        self.fc1 = nn.Linear(emb_dim * 2, hid_dim)\n",
    "        self.batchnorm2 = nn.BatchNorm1d(hid_dim)\n",
    "        self.fc2 = nn.Linear(hid_dim, output_dim)\n",
    "        \n",
    "        #activation function\n",
    "        self.act = nn.Sigmoid()\n",
    "        \n",
    "    def forward(self, text1:[str], text2:[str]):\n",
    "        \"\"\"\n",
    "        text1: list of strings from question1, len: batch_size\n",
    "        text2: list of strings from question2, len: batch_size\n",
    "        \"\"\"\n",
    "        \n",
    "        emb1 = embed(text1)\n",
    "        e1 = torch.from_numpy(emb1.numpy()).to(device)\n",
    "        \n",
    "        emb2 = embed(text2)\n",
    "        e2 = torch.from_numpy(emb2.numpy()).to(device)\n",
    "        \n",
    "        # merged\n",
    "        x = torch.cat((e1, e2), dim = 1)\n",
    "        x = self.batchnorm1(x)\n",
    "        \n",
    "        \n",
    "        x=self.fc1(x)\n",
    "        x = self.nonlinear(x)\n",
    "        x = self.dropout(x)\n",
    "        x = self.batchnorm2(x)\n",
    "        \n",
    "        x=self.fc2(x)\n",
    "\n",
    "        #Final activation function\n",
    "        outputs=self.act(x)\n",
    "        \n",
    "        return outputs"
   ]
  },
  {
   "cell_type": "markdown",
   "metadata": {},
   "source": [
    "## Test model"
   ]
  },
  {
   "cell_type": "code",
   "execution_count": 44,
   "metadata": {},
   "outputs": [],
   "source": [
    "model = IsDuplicateAdv(output_dim=2, emb_dim=512).to(device)\n",
    "\n",
    "prob = model(text1= res['q1'], text2 = res['q2'])"
   ]
  },
  {
   "cell_type": "code",
   "execution_count": 45,
   "metadata": {
    "scrolled": true
   },
   "outputs": [
    {
     "data": {
      "text/plain": [
       "tensor([[0.4180, 0.4529],\n",
       "        [0.6072, 0.3970],\n",
       "        [0.4349, 0.3845],\n",
       "        [0.5906, 0.2811],\n",
       "        [0.5912, 0.5896],\n",
       "        [0.6489, 0.3896],\n",
       "        [0.6072, 0.6204],\n",
       "        [0.6927, 0.5849],\n",
       "        [0.6786, 0.3380],\n",
       "        [0.4490, 0.5158],\n",
       "        [0.5081, 0.5857],\n",
       "        [0.5790, 0.3876],\n",
       "        [0.6260, 0.3591],\n",
       "        [0.6701, 0.5734],\n",
       "        [0.3186, 0.4479],\n",
       "        [0.5146, 0.2941],\n",
       "        [0.3445, 0.4910],\n",
       "        [0.6449, 0.4397],\n",
       "        [0.3178, 0.8497],\n",
       "        [0.6909, 0.4778],\n",
       "        [0.3922, 0.3653],\n",
       "        [0.7983, 0.5951],\n",
       "        [0.6286, 0.5278],\n",
       "        [0.3575, 0.4270],\n",
       "        [0.4866, 0.5178],\n",
       "        [0.6305, 0.5303],\n",
       "        [0.6855, 0.6353],\n",
       "        [0.1862, 0.5921],\n",
       "        [0.6901, 0.4636],\n",
       "        [0.6041, 0.2694],\n",
       "        [0.2500, 0.5107],\n",
       "        [0.2580, 0.5159],\n",
       "        [0.5116, 0.3391],\n",
       "        [0.7193, 0.3234],\n",
       "        [0.5393, 0.5261],\n",
       "        [0.4500, 0.6376],\n",
       "        [0.5675, 0.5866],\n",
       "        [0.5385, 0.5409],\n",
       "        [0.5641, 0.6839],\n",
       "        [0.6131, 0.6048],\n",
       "        [0.2446, 0.4528],\n",
       "        [0.6618, 0.4732],\n",
       "        [0.3794, 0.6743],\n",
       "        [0.4549, 0.5573],\n",
       "        [0.6696, 0.6367],\n",
       "        [0.5685, 0.3704],\n",
       "        [0.2438, 0.3749],\n",
       "        [0.5212, 0.5635],\n",
       "        [0.4437, 0.4035],\n",
       "        [0.6705, 0.6155],\n",
       "        [0.3090, 0.5730],\n",
       "        [0.5103, 0.5601],\n",
       "        [0.4127, 0.3978],\n",
       "        [0.5109, 0.4130],\n",
       "        [0.4842, 0.6347],\n",
       "        [0.2884, 0.5027],\n",
       "        [0.5416, 0.6883],\n",
       "        [0.4662, 0.4180],\n",
       "        [0.5178, 0.5221],\n",
       "        [0.4695, 0.2854],\n",
       "        [0.6290, 0.6673],\n",
       "        [0.7964, 0.7972],\n",
       "        [0.6217, 0.6012],\n",
       "        [0.4218, 0.4812],\n",
       "        [0.4837, 0.2502],\n",
       "        [0.4261, 0.5279],\n",
       "        [0.5179, 0.4634],\n",
       "        [0.3974, 0.6544],\n",
       "        [0.4794, 0.7661],\n",
       "        [0.4790, 0.3190],\n",
       "        [0.5658, 0.8361],\n",
       "        [0.5506, 0.7877],\n",
       "        [0.3432, 0.7676],\n",
       "        [0.5202, 0.6374],\n",
       "        [0.6132, 0.6020],\n",
       "        [0.4696, 0.4925],\n",
       "        [0.4294, 0.7037],\n",
       "        [0.4424, 0.2565],\n",
       "        [0.5175, 0.5763],\n",
       "        [0.5719, 0.3742],\n",
       "        [0.5348, 0.5752],\n",
       "        [0.3505, 0.5911],\n",
       "        [0.4302, 0.6143],\n",
       "        [0.6382, 0.2856],\n",
       "        [0.6897, 0.3985],\n",
       "        [0.4866, 0.5745],\n",
       "        [0.3202, 0.6599],\n",
       "        [0.2915, 0.6344],\n",
       "        [0.7697, 0.4965],\n",
       "        [0.5392, 0.5712],\n",
       "        [0.7387, 0.7068],\n",
       "        [0.3552, 0.4696],\n",
       "        [0.3683, 0.6605],\n",
       "        [0.4939, 0.3648],\n",
       "        [0.3917, 0.4300],\n",
       "        [0.5641, 0.4056],\n",
       "        [0.3490, 0.4693],\n",
       "        [0.3901, 0.7369],\n",
       "        [0.2752, 0.7056],\n",
       "        [0.4011, 0.6475],\n",
       "        [0.7306, 0.5676],\n",
       "        [0.5258, 0.6197],\n",
       "        [0.4901, 0.3523],\n",
       "        [0.3576, 0.3955],\n",
       "        [0.4847, 0.4960],\n",
       "        [0.4612, 0.5169],\n",
       "        [0.3544, 0.6215],\n",
       "        [0.6631, 0.5913],\n",
       "        [0.4524, 0.5854],\n",
       "        [0.5839, 0.4587],\n",
       "        [0.5199, 0.5187],\n",
       "        [0.4884, 0.6443],\n",
       "        [0.4243, 0.5138],\n",
       "        [0.3110, 0.4459],\n",
       "        [0.5148, 0.5485],\n",
       "        [0.4937, 0.2132],\n",
       "        [0.6385, 0.7836],\n",
       "        [0.5179, 0.4455],\n",
       "        [0.5072, 0.8405],\n",
       "        [0.4926, 0.5295],\n",
       "        [0.4729, 0.5367],\n",
       "        [0.4592, 0.7430],\n",
       "        [0.5748, 0.6069],\n",
       "        [0.4924, 0.6410],\n",
       "        [0.3973, 0.5205],\n",
       "        [0.5858, 0.4391],\n",
       "        [0.6713, 0.3854],\n",
       "        [0.6146, 0.7031],\n",
       "        [0.3251, 0.6132],\n",
       "        [0.4553, 0.8309],\n",
       "        [0.4881, 0.4292],\n",
       "        [0.3890, 0.3231],\n",
       "        [0.2657, 0.6625],\n",
       "        [0.6304, 0.3238],\n",
       "        [0.6981, 0.6136],\n",
       "        [0.8012, 0.5821],\n",
       "        [0.3876, 0.8763],\n",
       "        [0.7712, 0.5925],\n",
       "        [0.6766, 0.5963],\n",
       "        [0.6313, 0.2293],\n",
       "        [0.3728, 0.6055],\n",
       "        [0.2779, 0.4386],\n",
       "        [0.3461, 0.6063],\n",
       "        [0.4995, 0.2222],\n",
       "        [0.2729, 0.6488],\n",
       "        [0.4416, 0.6787],\n",
       "        [0.6885, 0.3534],\n",
       "        [0.4550, 0.5057],\n",
       "        [0.6772, 0.2932],\n",
       "        [0.6520, 0.3665],\n",
       "        [0.4146, 0.7337],\n",
       "        [0.5095, 0.4593],\n",
       "        [0.6717, 0.3314],\n",
       "        [0.3704, 0.5382],\n",
       "        [0.6674, 0.7881],\n",
       "        [0.6683, 0.3856],\n",
       "        [0.4049, 0.3946],\n",
       "        [0.3511, 0.5675],\n",
       "        [0.3378, 0.4137],\n",
       "        [0.6838, 0.7938],\n",
       "        [0.5648, 0.4371],\n",
       "        [0.6084, 0.4812],\n",
       "        [0.5508, 0.3037],\n",
       "        [0.4390, 0.6248],\n",
       "        [0.5425, 0.3976],\n",
       "        [0.5794, 0.4543],\n",
       "        [0.5976, 0.5621],\n",
       "        [0.3207, 0.5067],\n",
       "        [0.6884, 0.3065],\n",
       "        [0.4447, 0.6378],\n",
       "        [0.4962, 0.3365],\n",
       "        [0.2687, 0.4526],\n",
       "        [0.4453, 0.7251],\n",
       "        [0.3404, 0.2747],\n",
       "        [0.4987, 0.6390],\n",
       "        [0.4630, 0.5144],\n",
       "        [0.3450, 0.3570],\n",
       "        [0.3963, 0.2617],\n",
       "        [0.2442, 0.7156],\n",
       "        [0.4544, 0.5199],\n",
       "        [0.4307, 0.7687],\n",
       "        [0.6075, 0.7815],\n",
       "        [0.6462, 0.3839],\n",
       "        [0.6734, 0.4294],\n",
       "        [0.3049, 0.2693],\n",
       "        [0.4036, 0.4591],\n",
       "        [0.5036, 0.5020],\n",
       "        [0.4477, 0.4393],\n",
       "        [0.6257, 0.4099],\n",
       "        [0.2906, 0.4167],\n",
       "        [0.5291, 0.5541],\n",
       "        [0.3367, 0.4942],\n",
       "        [0.5564, 0.4100],\n",
       "        [0.4803, 0.1509],\n",
       "        [0.4690, 0.3645],\n",
       "        [0.5732, 0.2641],\n",
       "        [0.4249, 0.5110],\n",
       "        [0.5123, 0.3935],\n",
       "        [0.3429, 0.3226],\n",
       "        [0.4411, 0.4764],\n",
       "        [0.5999, 0.2607],\n",
       "        [0.4698, 0.6639],\n",
       "        [0.6607, 0.4466],\n",
       "        [0.4871, 0.5528],\n",
       "        [0.5392, 0.3530],\n",
       "        [0.2841, 0.6131],\n",
       "        [0.3443, 0.4966],\n",
       "        [0.3833, 0.6257],\n",
       "        [0.5844, 0.3367],\n",
       "        [0.4514, 0.6348],\n",
       "        [0.3161, 0.5744],\n",
       "        [0.7383, 0.5821],\n",
       "        [0.4981, 0.3921],\n",
       "        [0.4022, 0.7028],\n",
       "        [0.3000, 0.5477],\n",
       "        [0.5977, 0.2167],\n",
       "        [0.6062, 0.8144],\n",
       "        [0.4642, 0.2714],\n",
       "        [0.4207, 0.4983],\n",
       "        [0.2795, 0.5723],\n",
       "        [0.5935, 0.3743],\n",
       "        [0.5287, 0.4520],\n",
       "        [0.3802, 0.2675],\n",
       "        [0.4593, 0.5167],\n",
       "        [0.6356, 0.2725],\n",
       "        [0.3194, 0.4857],\n",
       "        [0.5007, 0.2630],\n",
       "        [0.5272, 0.4287],\n",
       "        [0.3656, 0.3705],\n",
       "        [0.4218, 0.4051],\n",
       "        [0.5836, 0.4748],\n",
       "        [0.3995, 0.5347],\n",
       "        [0.3553, 0.3551],\n",
       "        [0.6098, 0.4058],\n",
       "        [0.5693, 0.5987],\n",
       "        [0.5906, 0.3466],\n",
       "        [0.5300, 0.5259],\n",
       "        [0.3439, 0.6401],\n",
       "        [0.7257, 0.5862],\n",
       "        [0.5028, 0.5126],\n",
       "        [0.4727, 0.4456],\n",
       "        [0.3755, 0.7069],\n",
       "        [0.2905, 0.3085],\n",
       "        [0.5615, 0.5450],\n",
       "        [0.3951, 0.5650],\n",
       "        [0.5744, 0.3919],\n",
       "        [0.5160, 0.5494],\n",
       "        [0.4949, 0.2033],\n",
       "        [0.7712, 0.4614],\n",
       "        [0.4786, 0.6233],\n",
       "        [0.5760, 0.6516],\n",
       "        [0.2867, 0.4836],\n",
       "        [0.4295, 0.8498],\n",
       "        [0.3009, 0.4406],\n",
       "        [0.2769, 0.5076],\n",
       "        [0.4895, 0.5064]], device='cuda:0', grad_fn=<SigmoidBackward>)"
      ]
     },
     "execution_count": 45,
     "metadata": {},
     "output_type": "execute_result"
    }
   ],
   "source": [
    "prob"
   ]
  },
  {
   "cell_type": "code",
   "execution_count": 46,
   "metadata": {},
   "outputs": [],
   "source": [
    "#torch.argmax(prob, dim=1)"
   ]
  },
  {
   "cell_type": "code",
   "execution_count": 47,
   "metadata": {},
   "outputs": [],
   "source": [
    "#prob[:,1], prob[:,0]"
   ]
  },
  {
   "cell_type": "code",
   "execution_count": 48,
   "metadata": {},
   "outputs": [
    {
     "name": "stdout",
     "output_type": "stream",
     "text": [
      "IsDuplicateAdv(\n",
      "  (batchnorm1): BatchNorm1d(1024, eps=1e-05, momentum=0.1, affine=True, track_running_stats=True)\n",
      "  (dropout): Dropout(p=0.2, inplace=False)\n",
      "  (nonlinear): PReLU(num_parameters=1)\n",
      "  (fc1): Linear(in_features=1024, out_features=512, bias=True)\n",
      "  (batchnorm2): BatchNorm1d(512, eps=1e-05, momentum=0.1, affine=True, track_running_stats=True)\n",
      "  (fc2): Linear(in_features=512, out_features=2, bias=True)\n",
      "  (act): Sigmoid()\n",
      ")\n"
     ]
    }
   ],
   "source": [
    "print(model)"
   ]
  },
  {
   "cell_type": "code",
   "execution_count": 49,
   "metadata": {},
   "outputs": [
    {
     "name": "stdout",
     "output_type": "stream",
     "text": [
      "+-------------------+------------+\n",
      "|      Modules      | Parameters |\n",
      "+-------------------+------------+\n",
      "| batchnorm1.weight |    1024    |\n",
      "|  batchnorm1.bias  |    1024    |\n",
      "|  nonlinear.weight |     1      |\n",
      "|     fc1.weight    |   524288   |\n",
      "|      fc1.bias     |    512     |\n",
      "| batchnorm2.weight |    512     |\n",
      "|  batchnorm2.bias  |    512     |\n",
      "|     fc2.weight    |    1024    |\n",
      "|      fc2.bias     |     2      |\n",
      "+-------------------+------------+\n",
      "Total Trainable Params: 528899\n"
     ]
    },
    {
     "data": {
      "text/plain": [
       "528899"
      ]
     },
     "execution_count": 49,
     "metadata": {},
     "output_type": "execute_result"
    }
   ],
   "source": [
    "from prettytable import PrettyTable\n",
    "\n",
    "def count_parameters(model):\n",
    "    table = PrettyTable([\"Modules\", \"Parameters\"])\n",
    "    total_params = 0\n",
    "    for name, parameter in model.named_parameters():\n",
    "        if not parameter.requires_grad: continue\n",
    "        param = parameter.numel()\n",
    "        table.add_row([name, param])\n",
    "        total_params+=param\n",
    "    print(table)\n",
    "    print(f\"Total Trainable Params: {total_params}\")\n",
    "    return total_params\n",
    "    \n",
    "count_parameters(model)"
   ]
  },
  {
   "cell_type": "markdown",
   "metadata": {},
   "source": [
    "# Set Optimizer and Loss"
   ]
  },
  {
   "cell_type": "code",
   "execution_count": 50,
   "metadata": {},
   "outputs": [],
   "source": [
    "import torch.optim as optim\n",
    "\n",
    "#define optimizer and loss\n",
    "optimizer = optim.Adam(model.parameters(), lr=0.0001)\n",
    "criterion = nn.BCELoss()"
   ]
  },
  {
   "cell_type": "code",
   "execution_count": 51,
   "metadata": {},
   "outputs": [],
   "source": [
    "#??optim.Adam"
   ]
  },
  {
   "cell_type": "markdown",
   "metadata": {},
   "source": [
    "## `BCEWithLogitLoss()` more stable than `Sigmoid()` + `BCELoss()`. Why?\n",
    "\n",
    "> `Sigmoid()` + `BCELoss()` = `BCEWithLogitLoss()`\n",
    "\n",
    "\n",
    "\n",
    "- [Ans](https://discuss.pytorch.org/t/bce-loss-vs-cross-entropy/97437/2)\n",
    "\n"
   ]
  },
  {
   "cell_type": "code",
   "execution_count": 52,
   "metadata": {},
   "outputs": [],
   "source": [
    "#define metric\n",
    "def binary_accuracy(preds, y):\n",
    "    #round predictions to the closest integer\n",
    "    rounded_preds = torch.argmax(preds, dim=1)\n",
    "    \n",
    "    correct = (rounded_preds == y).float() \n",
    "    acc = correct.sum() / len(correct)\n",
    "    return acc\n",
    "    \n",
    "#push to cuda if available\n",
    "model = model.to(device)\n",
    "criterion = criterion.to(device)"
   ]
  },
  {
   "cell_type": "markdown",
   "metadata": {},
   "source": [
    "## Train"
   ]
  },
  {
   "cell_type": "code",
   "execution_count": 56,
   "metadata": {},
   "outputs": [],
   "source": [
    "def train(model, train_data_loader, optimizer, criterion):\n",
    "    \n",
    "    #initialize every epoch \n",
    "    epoch_loss = 0\n",
    "    epoch_acc = 0\n",
    "    \n",
    "    #set the model in training phase\n",
    "    model.train()  \n",
    "    \n",
    "    n_batch = len(train_data_loader)\n",
    "    for i, batch in enumerate(train_data_loader):\n",
    "        \n",
    "        #resets the gradients after every batch\n",
    "        optimizer.zero_grad()   \n",
    "        \n",
    "        #retrieve text and no. of words\n",
    "        q1, q2, label = batch['q1'], batch['q2'], batch['label'] \n",
    "        \n",
    "        label = label.to(device)\n",
    "        #convert to 1D tensor\n",
    "        predictions = model(q1, q2)\n",
    "        \n",
    "        #print(predictions.dtype)\n",
    "        #print(label.float().dtype)\n",
    "        #compute the loss\n",
    "        loss = criterion(predictions[:,1], label.float())        \n",
    "        \n",
    "        #compute the binary accuracy\n",
    "        acc = binary_accuracy(predictions, label.float())   \n",
    "        \n",
    "        #backpropage the loss and compute the gradients\n",
    "        loss.backward()       \n",
    "        \n",
    "        #update the weights\n",
    "        optimizer.step()      \n",
    "        \n",
    "        #loss and accuracy\n",
    "        batch_loss = loss.item()\n",
    "        batch_acc = acc.item() \n",
    "        epoch_loss += batch_loss  \n",
    "        epoch_acc +=  batch_acc  \n",
    "        if i % 100 == 0:\n",
    "            print(f\"\\t\\t\\t > trn batch_no: {i}/{n_batch}, batch_loss: {np.round(batch_loss/BATCH_SIZE, 4)}, batch_acc: {np.round(batch_acc/BATCH_SIZE, 4)}\")\n",
    "        \n",
    "    return epoch_loss / len(train_data_loader), epoch_acc / len(train_data_loader)"
   ]
  },
  {
   "cell_type": "markdown",
   "metadata": {},
   "source": [
    "## Evaluate"
   ]
  },
  {
   "cell_type": "code",
   "execution_count": 57,
   "metadata": {},
   "outputs": [],
   "source": [
    "def evaluate(model, valid_data_loader, criterion):\n",
    "    \n",
    "    #initialize every epoch\n",
    "    epoch_loss = 0\n",
    "    epoch_acc = 0\n",
    "\n",
    "    #deactivating dropout layers\n",
    "    model.eval()\n",
    "    \n",
    "    #deactivates autograd\n",
    "    n_batch = len(valid_data_loader)\n",
    "    with torch.no_grad():\n",
    "    \n",
    "        for i, batch in enumerate(valid_data_loader):\n",
    "        \n",
    "            #retrieve question pair and labels\n",
    "            q1, q2, label = batch['q1'], batch['q2'], batch['label']\n",
    "            label = label.to(device)\n",
    "            #convert to 1d tensor\n",
    "            predictions = model(q1, q2)\n",
    "            \n",
    "            #compute loss and accuracy\n",
    "            \n",
    "            loss = criterion(predictions[:,1], label.float())\n",
    "            acc = binary_accuracy(predictions, label.float())\n",
    "            \n",
    "            #loss and accuracy\n",
    "            batch_loss = loss.item()\n",
    "            batch_acc = acc.item() \n",
    "            epoch_loss += batch_loss  \n",
    "            epoch_acc +=  batch_acc \n",
    "            if i % 50 == 0:\n",
    "                print(f\"\\t\\t\\t > val batch_no: {i}/{n_batch}, batch_loss: {np.round(batch_loss/BATCH_SIZE,4)}, batch_acc: {np.round(batch_acc/BATCH_SIZE, 4)}\")\n",
    "            \n",
    "        \n",
    "    return epoch_loss / len(valid_data_loader), epoch_acc / len(valid_data_loader)\n"
   ]
  },
  {
   "cell_type": "markdown",
   "metadata": {},
   "source": [
    "## Train Loop"
   ]
  },
  {
   "cell_type": "code",
   "execution_count": 58,
   "metadata": {
    "scrolled": true
   },
   "outputs": [
    {
     "name": "stdout",
     "output_type": "stream",
     "text": [
      "\t\t\t > trn batch_no: 0/1264, batch_loss: 0.0029, batch_acc: 0.002\n",
      "\t\t\t > trn batch_no: 100/1264, batch_loss: 0.0023, batch_acc: 0.0025\n",
      "\t\t\t > trn batch_no: 200/1264, batch_loss: 0.0022, batch_acc: 0.0026\n",
      "\t\t\t > trn batch_no: 300/1264, batch_loss: 0.0024, batch_acc: 0.0025\n",
      "\t\t\t > trn batch_no: 400/1264, batch_loss: 0.0021, batch_acc: 0.0027\n",
      "\t\t\t > trn batch_no: 500/1264, batch_loss: 0.0018, batch_acc: 0.0029\n",
      "\t\t\t > trn batch_no: 600/1264, batch_loss: 0.002, batch_acc: 0.0029\n",
      "\t\t\t > trn batch_no: 700/1264, batch_loss: 0.002, batch_acc: 0.0028\n",
      "\t\t\t > trn batch_no: 800/1264, batch_loss: 0.002, batch_acc: 0.0027\n",
      "\t\t\t > trn batch_no: 900/1264, batch_loss: 0.0018, batch_acc: 0.003\n",
      "\t\t\t > trn batch_no: 1000/1264, batch_loss: 0.0017, batch_acc: 0.003\n",
      "\t\t\t > trn batch_no: 1100/1264, batch_loss: 0.002, batch_acc: 0.0028\n",
      "\t\t\t > trn batch_no: 1200/1264, batch_loss: 0.0017, batch_acc: 0.0031\n",
      "\t\t\t > val batch_no: 0/316, batch_loss: 0.0017, batch_acc: 0.0032\n",
      "\t\t\t > val batch_no: 50/316, batch_loss: 0.0017, batch_acc: 0.0031\n",
      "\t\t\t > val batch_no: 100/316, batch_loss: 0.0016, batch_acc: 0.0032\n",
      "\t\t\t > val batch_no: 150/316, batch_loss: 0.0017, batch_acc: 0.003\n",
      "\t\t\t > val batch_no: 200/316, batch_loss: 0.0015, batch_acc: 0.0032\n",
      "\t\t\t > val batch_no: 250/316, batch_loss: 0.0016, batch_acc: 0.003\n",
      "\t\t\t > val batch_no: 300/316, batch_loss: 0.0015, batch_acc: 0.0031\n",
      "Epoch: 1/5 \tTrain Loss: 0.509 | Train Acc: 72.59%\n",
      "\t\t Val. Loss: 0.427 |  Val. Acc: 78.27%\n",
      "\t\t\t > trn batch_no: 0/1264, batch_loss: 0.0019, batch_acc: 0.0029\n",
      "\t\t\t > trn batch_no: 100/1264, batch_loss: 0.0016, batch_acc: 0.0032\n",
      "\t\t\t > trn batch_no: 200/1264, batch_loss: 0.0016, batch_acc: 0.003\n",
      "\t\t\t > trn batch_no: 300/1264, batch_loss: 0.0018, batch_acc: 0.003\n",
      "\t\t\t > trn batch_no: 400/1264, batch_loss: 0.0016, batch_acc: 0.0029\n",
      "\t\t\t > trn batch_no: 500/1264, batch_loss: 0.0017, batch_acc: 0.0031\n",
      "\t\t\t > trn batch_no: 600/1264, batch_loss: 0.0015, batch_acc: 0.0032\n",
      "\t\t\t > trn batch_no: 700/1264, batch_loss: 0.0017, batch_acc: 0.003\n",
      "\t\t\t > trn batch_no: 800/1264, batch_loss: 0.0014, batch_acc: 0.0033\n",
      "\t\t\t > trn batch_no: 900/1264, batch_loss: 0.0015, batch_acc: 0.0031\n",
      "\t\t\t > trn batch_no: 1000/1264, batch_loss: 0.0016, batch_acc: 0.003\n",
      "\t\t\t > trn batch_no: 1100/1264, batch_loss: 0.0016, batch_acc: 0.0031\n",
      "\t\t\t > trn batch_no: 1200/1264, batch_loss: 0.0015, batch_acc: 0.0031\n",
      "\t\t\t > val batch_no: 0/316, batch_loss: 0.0017, batch_acc: 0.0031\n",
      "\t\t\t > val batch_no: 50/316, batch_loss: 0.0015, batch_acc: 0.0032\n",
      "\t\t\t > val batch_no: 100/316, batch_loss: 0.0015, batch_acc: 0.0031\n",
      "\t\t\t > val batch_no: 150/316, batch_loss: 0.0014, batch_acc: 0.0032\n",
      "\t\t\t > val batch_no: 200/316, batch_loss: 0.0015, batch_acc: 0.0032\n",
      "\t\t\t > val batch_no: 250/316, batch_loss: 0.0014, batch_acc: 0.0032\n",
      "\t\t\t > val batch_no: 300/316, batch_loss: 0.0016, batch_acc: 0.0031\n",
      "Epoch: 2/5 \tTrain Loss: 0.396 | Train Acc: 79.95%\n",
      "\t\t Val. Loss: 0.371 |  Val. Acc: 81.78%\n",
      "\t\t\t > trn batch_no: 0/1264, batch_loss: 0.0012, batch_acc: 0.0033\n",
      "\t\t\t > trn batch_no: 100/1264, batch_loss: 0.0013, batch_acc: 0.0032\n",
      "\t\t\t > trn batch_no: 200/1264, batch_loss: 0.0013, batch_acc: 0.0034\n",
      "\t\t\t > trn batch_no: 300/1264, batch_loss: 0.0014, batch_acc: 0.0032\n",
      "\t\t\t > trn batch_no: 400/1264, batch_loss: 0.0013, batch_acc: 0.0032\n",
      "\t\t\t > trn batch_no: 500/1264, batch_loss: 0.0012, batch_acc: 0.0033\n",
      "\t\t\t > trn batch_no: 600/1264, batch_loss: 0.0014, batch_acc: 0.0032\n",
      "\t\t\t > trn batch_no: 700/1264, batch_loss: 0.0016, batch_acc: 0.0032\n",
      "\t\t\t > trn batch_no: 800/1264, batch_loss: 0.0012, batch_acc: 0.0033\n",
      "\t\t\t > trn batch_no: 900/1264, batch_loss: 0.0011, batch_acc: 0.0034\n",
      "\t\t\t > trn batch_no: 1000/1264, batch_loss: 0.0014, batch_acc: 0.0033\n",
      "\t\t\t > trn batch_no: 1100/1264, batch_loss: 0.0016, batch_acc: 0.0032\n",
      "\t\t\t > trn batch_no: 1200/1264, batch_loss: 0.0015, batch_acc: 0.0031\n",
      "\t\t\t > val batch_no: 0/316, batch_loss: 0.0013, batch_acc: 0.0033\n",
      "\t\t\t > val batch_no: 50/316, batch_loss: 0.0012, batch_acc: 0.0033\n",
      "\t\t\t > val batch_no: 100/316, batch_loss: 0.0015, batch_acc: 0.0031\n",
      "\t\t\t > val batch_no: 150/316, batch_loss: 0.0012, batch_acc: 0.0032\n",
      "\t\t\t > val batch_no: 200/316, batch_loss: 0.0015, batch_acc: 0.0032\n",
      "\t\t\t > val batch_no: 250/316, batch_loss: 0.0013, batch_acc: 0.0034\n",
      "\t\t\t > val batch_no: 300/316, batch_loss: 0.0012, batch_acc: 0.0033\n",
      "Epoch: 3/5 \tTrain Loss: 0.349 | Train Acc: 82.84%\n",
      "\t\t Val. Loss: 0.350 |  Val. Acc: 83.01%\n",
      "\t\t\t > trn batch_no: 0/1264, batch_loss: 0.0013, batch_acc: 0.0033\n",
      "\t\t\t > trn batch_no: 100/1264, batch_loss: 0.0012, batch_acc: 0.0032\n",
      "\t\t\t > trn batch_no: 200/1264, batch_loss: 0.0012, batch_acc: 0.0033\n",
      "\t\t\t > trn batch_no: 300/1264, batch_loss: 0.0014, batch_acc: 0.0033\n",
      "\t\t\t > trn batch_no: 400/1264, batch_loss: 0.0015, batch_acc: 0.0032\n",
      "\t\t\t > trn batch_no: 500/1264, batch_loss: 0.0012, batch_acc: 0.0033\n",
      "\t\t\t > trn batch_no: 600/1264, batch_loss: 0.0012, batch_acc: 0.0034\n",
      "\t\t\t > trn batch_no: 700/1264, batch_loss: 0.0013, batch_acc: 0.0033\n",
      "\t\t\t > trn batch_no: 800/1264, batch_loss: 0.0014, batch_acc: 0.0033\n",
      "\t\t\t > trn batch_no: 900/1264, batch_loss: 0.0012, batch_acc: 0.0034\n",
      "\t\t\t > trn batch_no: 1000/1264, batch_loss: 0.0015, batch_acc: 0.0032\n",
      "\t\t\t > trn batch_no: 1100/1264, batch_loss: 0.001, batch_acc: 0.0034\n",
      "\t\t\t > trn batch_no: 1200/1264, batch_loss: 0.0012, batch_acc: 0.0034\n",
      "\t\t\t > val batch_no: 0/316, batch_loss: 0.0013, batch_acc: 0.0033\n",
      "\t\t\t > val batch_no: 50/316, batch_loss: 0.0014, batch_acc: 0.0032\n",
      "\t\t\t > val batch_no: 100/316, batch_loss: 0.0013, batch_acc: 0.0033\n",
      "\t\t\t > val batch_no: 150/316, batch_loss: 0.0016, batch_acc: 0.0031\n",
      "\t\t\t > val batch_no: 200/316, batch_loss: 0.0013, batch_acc: 0.0032\n",
      "\t\t\t > val batch_no: 250/316, batch_loss: 0.0013, batch_acc: 0.0034\n",
      "\t\t\t > val batch_no: 300/316, batch_loss: 0.0011, batch_acc: 0.0034\n",
      "Epoch: 4/5 \tTrain Loss: 0.320 | Train Acc: 84.58%\n",
      "\t\t Val. Loss: 0.343 |  Val. Acc: 83.71%\n",
      "\t\t\t > trn batch_no: 0/1264, batch_loss: 0.001, batch_acc: 0.0035\n",
      "\t\t\t > trn batch_no: 100/1264, batch_loss: 0.0012, batch_acc: 0.0033\n",
      "\t\t\t > trn batch_no: 200/1264, batch_loss: 0.0009, batch_acc: 0.0035\n",
      "\t\t\t > trn batch_no: 300/1264, batch_loss: 0.0011, batch_acc: 0.0033\n",
      "\t\t\t > trn batch_no: 400/1264, batch_loss: 0.0011, batch_acc: 0.0035\n",
      "\t\t\t > trn batch_no: 500/1264, batch_loss: 0.0012, batch_acc: 0.0033\n",
      "\t\t\t > trn batch_no: 600/1264, batch_loss: 0.0014, batch_acc: 0.0033\n",
      "\t\t\t > trn batch_no: 700/1264, batch_loss: 0.0012, batch_acc: 0.0034\n",
      "\t\t\t > trn batch_no: 800/1264, batch_loss: 0.0014, batch_acc: 0.0032\n",
      "\t\t\t > trn batch_no: 900/1264, batch_loss: 0.0012, batch_acc: 0.0034\n",
      "\t\t\t > trn batch_no: 1000/1264, batch_loss: 0.0011, batch_acc: 0.0034\n",
      "\t\t\t > trn batch_no: 1100/1264, batch_loss: 0.0015, batch_acc: 0.0032\n",
      "\t\t\t > trn batch_no: 1200/1264, batch_loss: 0.0012, batch_acc: 0.0033\n",
      "\t\t\t > val batch_no: 0/316, batch_loss: 0.0015, batch_acc: 0.0032\n",
      "\t\t\t > val batch_no: 50/316, batch_loss: 0.0017, batch_acc: 0.0031\n",
      "\t\t\t > val batch_no: 100/316, batch_loss: 0.0013, batch_acc: 0.0033\n",
      "\t\t\t > val batch_no: 150/316, batch_loss: 0.0014, batch_acc: 0.0032\n",
      "\t\t\t > val batch_no: 200/316, batch_loss: 0.0013, batch_acc: 0.0033\n",
      "\t\t\t > val batch_no: 250/316, batch_loss: 0.0011, batch_acc: 0.0034\n",
      "\t\t\t > val batch_no: 300/316, batch_loss: 0.0013, batch_acc: 0.0033\n",
      "Epoch: 5/5 \tTrain Loss: 0.298 | Train Acc: 85.88%\n",
      "\t\t Val. Loss: 0.338 |  Val. Acc: 84.00%\n"
     ]
    }
   ],
   "source": [
    "N_EPOCHS = 5\n",
    "best_valid_loss = float('inf')\n",
    "\n",
    "history = {\n",
    "    \"train_loss\": [],\n",
    "    \"train_acc\": [],\n",
    "    \"valid_loss\": [],\n",
    "    \"valid_acc\": []\n",
    "}\n",
    "\n",
    "for epoch in range(N_EPOCHS):\n",
    "     \n",
    "    #train the model\n",
    "    train_loss, train_acc = train(model, train_loader, optimizer, criterion)\n",
    "    \n",
    "    #evaluate the model\n",
    "    valid_loss, valid_acc = evaluate(model, valid_loader, criterion)\n",
    "    \n",
    "    train_loss = np.round(train_loss,4)\n",
    "    train_acc = np.round(train_acc, 4)\n",
    "    valid_loss = np.round(valid_loss, 4)\n",
    "    valid_acc = np.round(valid_acc, 4)\n",
    "    \n",
    "    history[\"train_loss\"].append(train_loss)\n",
    "    history[\"train_acc\"].append(train_acc)\n",
    "    history[\"valid_loss\"].append(valid_loss)\n",
    "    history[\"valid_acc\"].append(valid_acc)\n",
    "    \n",
    "    #save the best model\n",
    "    if valid_loss < best_valid_loss:\n",
    "        best_valid_loss = valid_loss\n",
    "        torch.save(model.state_dict(), 'saved_weights.pt')\n",
    "    \n",
    "    print(f'Epoch: {epoch+1}/{N_EPOCHS} \\tTrain Loss: {train_loss:.3f} | Train Acc: {train_acc*100:.2f}%')\n",
    "    print(f'\\t\\t Val. Loss: {valid_loss:.3f} |  Val. Acc: {valid_acc*100:.2f}%')"
   ]
  },
  {
   "cell_type": "code",
   "execution_count": 59,
   "metadata": {},
   "outputs": [
    {
     "data": {
      "text/plain": [
       "{'train_loss': [0.5086, 0.3958, 0.3489, 0.3197, 0.2984],\n",
       " 'train_acc': [0.7259, 0.7995, 0.8284, 0.8458, 0.8588],\n",
       " 'valid_loss': [0.4272, 0.3713, 0.35, 0.3429, 0.338],\n",
       " 'valid_acc': [0.7827, 0.8178, 0.8301, 0.8371, 0.84]}"
      ]
     },
     "execution_count": 59,
     "metadata": {},
     "output_type": "execute_result"
    }
   ],
   "source": [
    "history"
   ]
  },
  {
   "cell_type": "markdown",
   "metadata": {},
   "source": [
    "# Performance"
   ]
  },
  {
   "cell_type": "code",
   "execution_count": 60,
   "metadata": {},
   "outputs": [],
   "source": [
    "%matplotlib inline\n",
    "from matplotlib import pyplot as plt"
   ]
  },
  {
   "cell_type": "code",
   "execution_count": 61,
   "metadata": {},
   "outputs": [
    {
     "data": {
      "image/png": "[encoded data removed]",
      "text/plain": [
       "<Figure size 432x288 with 1 Axes>"
      ]
     },
     "metadata": {
      "needs_background": "light"
     },
     "output_type": "display_data"
    }
   ],
   "source": [
    "plt.plot(history[\"train_loss\"], label=\"train\")\n",
    "plt.plot(history[\"valid_loss\"], label=\"val\")\n",
    "plt.title(\"Loss vs Epoch\")\n",
    "plt.xlabel(\"Epochs\")\n",
    "plt.ylabel(\"Loss\")\n",
    "plt.grid(alpha=0.3)\n",
    "plt.legend()\n",
    "plt.show()"
   ]
  },
  {
   "cell_type": "code",
   "execution_count": 62,
   "metadata": {},
   "outputs": [
    {
     "data": {
      "image/png": "[encoded data removed]",
      "text/plain": [
       "<Figure size 432x288 with 1 Axes>"
      ]
     },
     "metadata": {
      "needs_background": "light"
     },
     "output_type": "display_data"
    }
   ],
   "source": [
    "plt.plot(history[\"train_acc\"], label=\"train\")\n",
    "plt.plot(history[\"valid_acc\"], label=\"val\")\n",
    "plt.title(\"Accuracy vs Epochs\")\n",
    "plt.xlabel(\"Epochs\")\n",
    "plt.ylabel(\"Accuracy\")\n",
    "plt.grid(alpha=0.3)\n",
    "plt.legend()\n",
    "plt.show()"
   ]
  },
  {
   "cell_type": "markdown",
   "metadata": {},
   "source": [
    "# Inference\n",
    "\n",
    "- TODO"
   ]
  },
  {
   "cell_type": "code",
   "execution_count": null,
   "metadata": {},
   "outputs": [],
   "source": []
  }
 ],
 "metadata": {
  "kernelspec": {
   "display_name": "Python 3",
   "language": "python",
   "name": "python3"
  },
  "language_info": {
   "codemirror_mode": {
    "name": "ipython",
    "version": 3
   },
   "file_extension": ".py",
   "mimetype": "text/x-python",
   "name": "python",
   "nbconvert_exporter": "python",
   "pygments_lexer": "ipython3",
   "version": "3.8.5"
  }
 },
 "nbformat": 4,
 "nbformat_minor": 4
}
